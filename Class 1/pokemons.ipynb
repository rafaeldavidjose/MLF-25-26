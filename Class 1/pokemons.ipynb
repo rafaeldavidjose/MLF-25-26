{
 "cells": [
  {
   "cell_type": "markdown",
   "id": "c44a3212",
   "metadata": {},
   "source": [
    "# **Pokemon Dataset Analysis**"
   ]
  },
  {
   "cell_type": "markdown",
   "id": "fef7105c",
   "metadata": {},
   "source": [
    "### Import Libraries and Load Data"
   ]
  },
  {
   "cell_type": "code",
   "execution_count": 27,
   "id": "d0843218",
   "metadata": {},
   "outputs": [],
   "source": [
    "import pandas as pd\n",
    "import seaborn as sns"
   ]
  },
  {
   "cell_type": "code",
   "execution_count": 28,
   "id": "c09fb092",
   "metadata": {},
   "outputs": [],
   "source": [
    "df = pd.read_csv('Pokemon.csv')"
   ]
  },
  {
   "cell_type": "code",
   "execution_count": 29,
   "id": "94aacd2c",
   "metadata": {},
   "outputs": [
    {
     "data": {
      "application/vnd.microsoft.datawrangler.viewer.v0+json": {
       "columns": [
        {
         "name": "index",
         "rawType": "int64",
         "type": "integer"
        },
        {
         "name": "#",
         "rawType": "int64",
         "type": "integer"
        },
        {
         "name": "Name",
         "rawType": "object",
         "type": "string"
        },
        {
         "name": "Type 1",
         "rawType": "object",
         "type": "string"
        },
        {
         "name": "Type 2",
         "rawType": "object",
         "type": "unknown"
        },
        {
         "name": "Total",
         "rawType": "int64",
         "type": "integer"
        },
        {
         "name": "HP",
         "rawType": "int64",
         "type": "integer"
        },
        {
         "name": "Attack",
         "rawType": "int64",
         "type": "integer"
        },
        {
         "name": "Defense",
         "rawType": "int64",
         "type": "integer"
        },
        {
         "name": "Sp. Atk",
         "rawType": "int64",
         "type": "integer"
        },
        {
         "name": "Sp. Def",
         "rawType": "int64",
         "type": "integer"
        },
        {
         "name": "Speed",
         "rawType": "int64",
         "type": "integer"
        },
        {
         "name": "Generation",
         "rawType": "int64",
         "type": "integer"
        },
        {
         "name": "Legendary",
         "rawType": "bool",
         "type": "boolean"
        }
       ],
       "ref": "c5986864-2a86-4e3a-9762-1e0fa2727acf",
       "rows": [
        [
         "0",
         "1",
         "Bulbasaur",
         "Grass",
         "Poison",
         "318",
         "45",
         "49",
         "49",
         "65",
         "65",
         "45",
         "1",
         "False"
        ],
        [
         "1",
         "2",
         "Ivysaur",
         "Grass",
         "Poison",
         "405",
         "60",
         "62",
         "63",
         "80",
         "80",
         "60",
         "1",
         "False"
        ],
        [
         "2",
         "3",
         "Venusaur",
         "Grass",
         "Poison",
         "525",
         "80",
         "82",
         "83",
         "100",
         "100",
         "80",
         "1",
         "False"
        ],
        [
         "3",
         "3",
         "VenusaurMega Venusaur",
         "Grass",
         "Poison",
         "625",
         "80",
         "100",
         "123",
         "122",
         "120",
         "80",
         "1",
         "False"
        ],
        [
         "4",
         "4",
         "Charmander",
         "Fire",
         null,
         "309",
         "39",
         "52",
         "43",
         "60",
         "50",
         "65",
         "1",
         "False"
        ],
        [
         "5",
         "5",
         "Charmeleon",
         "Fire",
         null,
         "405",
         "58",
         "64",
         "58",
         "80",
         "65",
         "80",
         "1",
         "False"
        ],
        [
         "6",
         "6",
         "Charizard",
         "Fire",
         "Flying",
         "534",
         "78",
         "84",
         "78",
         "109",
         "85",
         "100",
         "1",
         "False"
        ],
        [
         "7",
         "6",
         "CharizardMega Charizard X",
         "Fire",
         "Dragon",
         "634",
         "78",
         "130",
         "111",
         "130",
         "85",
         "100",
         "1",
         "False"
        ],
        [
         "8",
         "6",
         "CharizardMega Charizard Y",
         "Fire",
         "Flying",
         "634",
         "78",
         "104",
         "78",
         "159",
         "115",
         "100",
         "1",
         "False"
        ],
        [
         "9",
         "7",
         "Squirtle",
         "Water",
         null,
         "314",
         "44",
         "48",
         "65",
         "50",
         "64",
         "43",
         "1",
         "False"
        ],
        [
         "10",
         "8",
         "Wartortle",
         "Water",
         null,
         "405",
         "59",
         "63",
         "80",
         "65",
         "80",
         "58",
         "1",
         "False"
        ],
        [
         "11",
         "9",
         "Blastoise",
         "Water",
         null,
         "530",
         "79",
         "83",
         "100",
         "85",
         "105",
         "78",
         "1",
         "False"
        ],
        [
         "12",
         "9",
         "BlastoiseMega Blastoise",
         "Water",
         null,
         "630",
         "79",
         "103",
         "120",
         "135",
         "115",
         "78",
         "1",
         "False"
        ],
        [
         "13",
         "10",
         "Caterpie",
         "Bug",
         null,
         "195",
         "45",
         "30",
         "35",
         "20",
         "20",
         "45",
         "1",
         "False"
        ],
        [
         "14",
         "11",
         "Metapod",
         "Bug",
         null,
         "205",
         "50",
         "20",
         "55",
         "25",
         "25",
         "30",
         "1",
         "False"
        ],
        [
         "15",
         "12",
         "Butterfree",
         "Bug",
         "Flying",
         "395",
         "60",
         "45",
         "50",
         "90",
         "80",
         "70",
         "1",
         "False"
        ],
        [
         "16",
         "13",
         "Weedle",
         "Bug",
         "Poison",
         "195",
         "40",
         "35",
         "30",
         "20",
         "20",
         "50",
         "1",
         "False"
        ],
        [
         "17",
         "14",
         "Kakuna",
         "Bug",
         "Poison",
         "205",
         "45",
         "25",
         "50",
         "25",
         "25",
         "35",
         "1",
         "False"
        ],
        [
         "18",
         "15",
         "Beedrill",
         "Bug",
         "Poison",
         "395",
         "65",
         "90",
         "40",
         "45",
         "80",
         "75",
         "1",
         "False"
        ],
        [
         "19",
         "15",
         "BeedrillMega Beedrill",
         "Bug",
         "Poison",
         "495",
         "65",
         "150",
         "40",
         "15",
         "80",
         "145",
         "1",
         "False"
        ],
        [
         "20",
         "16",
         "Pidgey",
         "Normal",
         "Flying",
         "251",
         "40",
         "45",
         "40",
         "35",
         "35",
         "56",
         "1",
         "False"
        ],
        [
         "21",
         "17",
         "Pidgeotto",
         "Normal",
         "Flying",
         "349",
         "63",
         "60",
         "55",
         "50",
         "50",
         "71",
         "1",
         "False"
        ],
        [
         "22",
         "18",
         "Pidgeot",
         "Normal",
         "Flying",
         "479",
         "83",
         "80",
         "75",
         "70",
         "70",
         "101",
         "1",
         "False"
        ],
        [
         "23",
         "18",
         "PidgeotMega Pidgeot",
         "Normal",
         "Flying",
         "579",
         "83",
         "80",
         "80",
         "135",
         "80",
         "121",
         "1",
         "False"
        ],
        [
         "24",
         "19",
         "Rattata",
         "Normal",
         null,
         "253",
         "30",
         "56",
         "35",
         "25",
         "35",
         "72",
         "1",
         "False"
        ],
        [
         "25",
         "20",
         "Raticate",
         "Normal",
         null,
         "413",
         "55",
         "81",
         "60",
         "50",
         "70",
         "97",
         "1",
         "False"
        ],
        [
         "26",
         "21",
         "Spearow",
         "Normal",
         "Flying",
         "262",
         "40",
         "60",
         "30",
         "31",
         "31",
         "70",
         "1",
         "False"
        ],
        [
         "27",
         "22",
         "Fearow",
         "Normal",
         "Flying",
         "442",
         "65",
         "90",
         "65",
         "61",
         "61",
         "100",
         "1",
         "False"
        ],
        [
         "28",
         "23",
         "Ekans",
         "Poison",
         null,
         "288",
         "35",
         "60",
         "44",
         "40",
         "54",
         "55",
         "1",
         "False"
        ],
        [
         "29",
         "24",
         "Arbok",
         "Poison",
         null,
         "438",
         "60",
         "85",
         "69",
         "65",
         "79",
         "80",
         "1",
         "False"
        ],
        [
         "30",
         "25",
         "Pikachu",
         "Electric",
         null,
         "320",
         "35",
         "55",
         "40",
         "50",
         "50",
         "90",
         "1",
         "False"
        ],
        [
         "31",
         "26",
         "Raichu",
         "Electric",
         null,
         "485",
         "60",
         "90",
         "55",
         "90",
         "80",
         "110",
         "1",
         "False"
        ],
        [
         "32",
         "27",
         "Sandshrew",
         "Ground",
         null,
         "300",
         "50",
         "75",
         "85",
         "20",
         "30",
         "40",
         "1",
         "False"
        ],
        [
         "33",
         "28",
         "Sandslash",
         "Ground",
         null,
         "450",
         "75",
         "100",
         "110",
         "45",
         "55",
         "65",
         "1",
         "False"
        ],
        [
         "34",
         "29",
         "Nidoran♀",
         "Poison",
         null,
         "275",
         "55",
         "47",
         "52",
         "40",
         "40",
         "41",
         "1",
         "False"
        ],
        [
         "35",
         "30",
         "Nidorina",
         "Poison",
         null,
         "365",
         "70",
         "62",
         "67",
         "55",
         "55",
         "56",
         "1",
         "False"
        ],
        [
         "36",
         "31",
         "Nidoqueen",
         "Poison",
         "Ground",
         "505",
         "90",
         "92",
         "87",
         "75",
         "85",
         "76",
         "1",
         "False"
        ],
        [
         "37",
         "32",
         "Nidoran♂",
         "Poison",
         null,
         "273",
         "46",
         "57",
         "40",
         "40",
         "40",
         "50",
         "1",
         "False"
        ],
        [
         "38",
         "33",
         "Nidorino",
         "Poison",
         null,
         "365",
         "61",
         "72",
         "57",
         "55",
         "55",
         "65",
         "1",
         "False"
        ],
        [
         "39",
         "34",
         "Nidoking",
         "Poison",
         "Ground",
         "505",
         "81",
         "102",
         "77",
         "85",
         "75",
         "85",
         "1",
         "False"
        ],
        [
         "40",
         "35",
         "Clefairy",
         "Fairy",
         null,
         "323",
         "70",
         "45",
         "48",
         "60",
         "65",
         "35",
         "1",
         "False"
        ],
        [
         "41",
         "36",
         "Clefable",
         "Fairy",
         null,
         "483",
         "95",
         "70",
         "73",
         "95",
         "90",
         "60",
         "1",
         "False"
        ],
        [
         "42",
         "37",
         "Vulpix",
         "Fire",
         null,
         "299",
         "38",
         "41",
         "40",
         "50",
         "65",
         "65",
         "1",
         "False"
        ],
        [
         "43",
         "38",
         "Ninetales",
         "Fire",
         null,
         "505",
         "73",
         "76",
         "75",
         "81",
         "100",
         "100",
         "1",
         "False"
        ],
        [
         "44",
         "39",
         "Jigglypuff",
         "Normal",
         "Fairy",
         "270",
         "115",
         "45",
         "20",
         "45",
         "25",
         "20",
         "1",
         "False"
        ],
        [
         "45",
         "40",
         "Wigglytuff",
         "Normal",
         "Fairy",
         "435",
         "140",
         "70",
         "45",
         "85",
         "50",
         "45",
         "1",
         "False"
        ],
        [
         "46",
         "41",
         "Zubat",
         "Poison",
         "Flying",
         "245",
         "40",
         "45",
         "35",
         "30",
         "40",
         "55",
         "1",
         "False"
        ],
        [
         "47",
         "42",
         "Golbat",
         "Poison",
         "Flying",
         "455",
         "75",
         "80",
         "70",
         "65",
         "75",
         "90",
         "1",
         "False"
        ],
        [
         "48",
         "43",
         "Oddish",
         "Grass",
         "Poison",
         "320",
         "45",
         "50",
         "55",
         "75",
         "65",
         "30",
         "1",
         "False"
        ],
        [
         "49",
         "44",
         "Gloom",
         "Grass",
         "Poison",
         "395",
         "60",
         "65",
         "70",
         "85",
         "75",
         "40",
         "1",
         "False"
        ]
       ],
       "shape": {
        "columns": 13,
        "rows": 800
       }
      },
      "text/html": [
       "<div>\n",
       "<style scoped>\n",
       "    .dataframe tbody tr th:only-of-type {\n",
       "        vertical-align: middle;\n",
       "    }\n",
       "\n",
       "    .dataframe tbody tr th {\n",
       "        vertical-align: top;\n",
       "    }\n",
       "\n",
       "    .dataframe thead th {\n",
       "        text-align: right;\n",
       "    }\n",
       "</style>\n",
       "<table border=\"1\" class=\"dataframe\">\n",
       "  <thead>\n",
       "    <tr style=\"text-align: right;\">\n",
       "      <th></th>\n",
       "      <th>#</th>\n",
       "      <th>Name</th>\n",
       "      <th>Type 1</th>\n",
       "      <th>Type 2</th>\n",
       "      <th>Total</th>\n",
       "      <th>HP</th>\n",
       "      <th>Attack</th>\n",
       "      <th>Defense</th>\n",
       "      <th>Sp. Atk</th>\n",
       "      <th>Sp. Def</th>\n",
       "      <th>Speed</th>\n",
       "      <th>Generation</th>\n",
       "      <th>Legendary</th>\n",
       "    </tr>\n",
       "  </thead>\n",
       "  <tbody>\n",
       "    <tr>\n",
       "      <th>0</th>\n",
       "      <td>1</td>\n",
       "      <td>Bulbasaur</td>\n",
       "      <td>Grass</td>\n",
       "      <td>Poison</td>\n",
       "      <td>318</td>\n",
       "      <td>45</td>\n",
       "      <td>49</td>\n",
       "      <td>49</td>\n",
       "      <td>65</td>\n",
       "      <td>65</td>\n",
       "      <td>45</td>\n",
       "      <td>1</td>\n",
       "      <td>False</td>\n",
       "    </tr>\n",
       "    <tr>\n",
       "      <th>1</th>\n",
       "      <td>2</td>\n",
       "      <td>Ivysaur</td>\n",
       "      <td>Grass</td>\n",
       "      <td>Poison</td>\n",
       "      <td>405</td>\n",
       "      <td>60</td>\n",
       "      <td>62</td>\n",
       "      <td>63</td>\n",
       "      <td>80</td>\n",
       "      <td>80</td>\n",
       "      <td>60</td>\n",
       "      <td>1</td>\n",
       "      <td>False</td>\n",
       "    </tr>\n",
       "    <tr>\n",
       "      <th>2</th>\n",
       "      <td>3</td>\n",
       "      <td>Venusaur</td>\n",
       "      <td>Grass</td>\n",
       "      <td>Poison</td>\n",
       "      <td>525</td>\n",
       "      <td>80</td>\n",
       "      <td>82</td>\n",
       "      <td>83</td>\n",
       "      <td>100</td>\n",
       "      <td>100</td>\n",
       "      <td>80</td>\n",
       "      <td>1</td>\n",
       "      <td>False</td>\n",
       "    </tr>\n",
       "    <tr>\n",
       "      <th>3</th>\n",
       "      <td>3</td>\n",
       "      <td>VenusaurMega Venusaur</td>\n",
       "      <td>Grass</td>\n",
       "      <td>Poison</td>\n",
       "      <td>625</td>\n",
       "      <td>80</td>\n",
       "      <td>100</td>\n",
       "      <td>123</td>\n",
       "      <td>122</td>\n",
       "      <td>120</td>\n",
       "      <td>80</td>\n",
       "      <td>1</td>\n",
       "      <td>False</td>\n",
       "    </tr>\n",
       "    <tr>\n",
       "      <th>4</th>\n",
       "      <td>4</td>\n",
       "      <td>Charmander</td>\n",
       "      <td>Fire</td>\n",
       "      <td>NaN</td>\n",
       "      <td>309</td>\n",
       "      <td>39</td>\n",
       "      <td>52</td>\n",
       "      <td>43</td>\n",
       "      <td>60</td>\n",
       "      <td>50</td>\n",
       "      <td>65</td>\n",
       "      <td>1</td>\n",
       "      <td>False</td>\n",
       "    </tr>\n",
       "    <tr>\n",
       "      <th>...</th>\n",
       "      <td>...</td>\n",
       "      <td>...</td>\n",
       "      <td>...</td>\n",
       "      <td>...</td>\n",
       "      <td>...</td>\n",
       "      <td>...</td>\n",
       "      <td>...</td>\n",
       "      <td>...</td>\n",
       "      <td>...</td>\n",
       "      <td>...</td>\n",
       "      <td>...</td>\n",
       "      <td>...</td>\n",
       "      <td>...</td>\n",
       "    </tr>\n",
       "    <tr>\n",
       "      <th>795</th>\n",
       "      <td>719</td>\n",
       "      <td>Diancie</td>\n",
       "      <td>Rock</td>\n",
       "      <td>Fairy</td>\n",
       "      <td>600</td>\n",
       "      <td>50</td>\n",
       "      <td>100</td>\n",
       "      <td>150</td>\n",
       "      <td>100</td>\n",
       "      <td>150</td>\n",
       "      <td>50</td>\n",
       "      <td>6</td>\n",
       "      <td>True</td>\n",
       "    </tr>\n",
       "    <tr>\n",
       "      <th>796</th>\n",
       "      <td>719</td>\n",
       "      <td>DiancieMega Diancie</td>\n",
       "      <td>Rock</td>\n",
       "      <td>Fairy</td>\n",
       "      <td>700</td>\n",
       "      <td>50</td>\n",
       "      <td>160</td>\n",
       "      <td>110</td>\n",
       "      <td>160</td>\n",
       "      <td>110</td>\n",
       "      <td>110</td>\n",
       "      <td>6</td>\n",
       "      <td>True</td>\n",
       "    </tr>\n",
       "    <tr>\n",
       "      <th>797</th>\n",
       "      <td>720</td>\n",
       "      <td>HoopaHoopa Confined</td>\n",
       "      <td>Psychic</td>\n",
       "      <td>Ghost</td>\n",
       "      <td>600</td>\n",
       "      <td>80</td>\n",
       "      <td>110</td>\n",
       "      <td>60</td>\n",
       "      <td>150</td>\n",
       "      <td>130</td>\n",
       "      <td>70</td>\n",
       "      <td>6</td>\n",
       "      <td>True</td>\n",
       "    </tr>\n",
       "    <tr>\n",
       "      <th>798</th>\n",
       "      <td>720</td>\n",
       "      <td>HoopaHoopa Unbound</td>\n",
       "      <td>Psychic</td>\n",
       "      <td>Dark</td>\n",
       "      <td>680</td>\n",
       "      <td>80</td>\n",
       "      <td>160</td>\n",
       "      <td>60</td>\n",
       "      <td>170</td>\n",
       "      <td>130</td>\n",
       "      <td>80</td>\n",
       "      <td>6</td>\n",
       "      <td>True</td>\n",
       "    </tr>\n",
       "    <tr>\n",
       "      <th>799</th>\n",
       "      <td>721</td>\n",
       "      <td>Volcanion</td>\n",
       "      <td>Fire</td>\n",
       "      <td>Water</td>\n",
       "      <td>600</td>\n",
       "      <td>80</td>\n",
       "      <td>110</td>\n",
       "      <td>120</td>\n",
       "      <td>130</td>\n",
       "      <td>90</td>\n",
       "      <td>70</td>\n",
       "      <td>6</td>\n",
       "      <td>True</td>\n",
       "    </tr>\n",
       "  </tbody>\n",
       "</table>\n",
       "<p>800 rows × 13 columns</p>\n",
       "</div>"
      ],
      "text/plain": [
       "       #                   Name   Type 1  Type 2  Total  HP  Attack  Defense  \\\n",
       "0      1              Bulbasaur    Grass  Poison    318  45      49       49   \n",
       "1      2                Ivysaur    Grass  Poison    405  60      62       63   \n",
       "2      3               Venusaur    Grass  Poison    525  80      82       83   \n",
       "3      3  VenusaurMega Venusaur    Grass  Poison    625  80     100      123   \n",
       "4      4             Charmander     Fire     NaN    309  39      52       43   \n",
       "..   ...                    ...      ...     ...    ...  ..     ...      ...   \n",
       "795  719                Diancie     Rock   Fairy    600  50     100      150   \n",
       "796  719    DiancieMega Diancie     Rock   Fairy    700  50     160      110   \n",
       "797  720    HoopaHoopa Confined  Psychic   Ghost    600  80     110       60   \n",
       "798  720     HoopaHoopa Unbound  Psychic    Dark    680  80     160       60   \n",
       "799  721              Volcanion     Fire   Water    600  80     110      120   \n",
       "\n",
       "     Sp. Atk  Sp. Def  Speed  Generation  Legendary  \n",
       "0         65       65     45           1      False  \n",
       "1         80       80     60           1      False  \n",
       "2        100      100     80           1      False  \n",
       "3        122      120     80           1      False  \n",
       "4         60       50     65           1      False  \n",
       "..       ...      ...    ...         ...        ...  \n",
       "795      100      150     50           6       True  \n",
       "796      160      110    110           6       True  \n",
       "797      150      130     70           6       True  \n",
       "798      170      130     80           6       True  \n",
       "799      130       90     70           6       True  \n",
       "\n",
       "[800 rows x 13 columns]"
      ]
     },
     "execution_count": 29,
     "metadata": {},
     "output_type": "execute_result"
    }
   ],
   "source": [
    "# Display all rows and columns of the data frame\n",
    "df"
   ]
  },
  {
   "cell_type": "code",
   "execution_count": 30,
   "id": "83a6da4e",
   "metadata": {},
   "outputs": [
    {
     "data": {
      "application/vnd.microsoft.datawrangler.viewer.v0+json": {
       "columns": [
        {
         "name": "index",
         "rawType": "int64",
         "type": "integer"
        },
        {
         "name": "#",
         "rawType": "int64",
         "type": "integer"
        },
        {
         "name": "Name",
         "rawType": "object",
         "type": "string"
        },
        {
         "name": "Type 1",
         "rawType": "object",
         "type": "string"
        },
        {
         "name": "Type 2",
         "rawType": "object",
         "type": "unknown"
        },
        {
         "name": "Total",
         "rawType": "int64",
         "type": "integer"
        },
        {
         "name": "HP",
         "rawType": "int64",
         "type": "integer"
        },
        {
         "name": "Attack",
         "rawType": "int64",
         "type": "integer"
        },
        {
         "name": "Defense",
         "rawType": "int64",
         "type": "integer"
        },
        {
         "name": "Sp. Atk",
         "rawType": "int64",
         "type": "integer"
        },
        {
         "name": "Sp. Def",
         "rawType": "int64",
         "type": "integer"
        },
        {
         "name": "Speed",
         "rawType": "int64",
         "type": "integer"
        },
        {
         "name": "Generation",
         "rawType": "int64",
         "type": "integer"
        },
        {
         "name": "Legendary",
         "rawType": "bool",
         "type": "boolean"
        }
       ],
       "ref": "d53e5519-b6e9-4b1c-91a7-ef0f702147b9",
       "rows": [
        [
         "0",
         "1",
         "Bulbasaur",
         "Grass",
         "Poison",
         "318",
         "45",
         "49",
         "49",
         "65",
         "65",
         "45",
         "1",
         "False"
        ],
        [
         "1",
         "2",
         "Ivysaur",
         "Grass",
         "Poison",
         "405",
         "60",
         "62",
         "63",
         "80",
         "80",
         "60",
         "1",
         "False"
        ],
        [
         "2",
         "3",
         "Venusaur",
         "Grass",
         "Poison",
         "525",
         "80",
         "82",
         "83",
         "100",
         "100",
         "80",
         "1",
         "False"
        ],
        [
         "3",
         "3",
         "VenusaurMega Venusaur",
         "Grass",
         "Poison",
         "625",
         "80",
         "100",
         "123",
         "122",
         "120",
         "80",
         "1",
         "False"
        ],
        [
         "4",
         "4",
         "Charmander",
         "Fire",
         null,
         "309",
         "39",
         "52",
         "43",
         "60",
         "50",
         "65",
         "1",
         "False"
        ]
       ],
       "shape": {
        "columns": 13,
        "rows": 5
       }
      },
      "text/html": [
       "<div>\n",
       "<style scoped>\n",
       "    .dataframe tbody tr th:only-of-type {\n",
       "        vertical-align: middle;\n",
       "    }\n",
       "\n",
       "    .dataframe tbody tr th {\n",
       "        vertical-align: top;\n",
       "    }\n",
       "\n",
       "    .dataframe thead th {\n",
       "        text-align: right;\n",
       "    }\n",
       "</style>\n",
       "<table border=\"1\" class=\"dataframe\">\n",
       "  <thead>\n",
       "    <tr style=\"text-align: right;\">\n",
       "      <th></th>\n",
       "      <th>#</th>\n",
       "      <th>Name</th>\n",
       "      <th>Type 1</th>\n",
       "      <th>Type 2</th>\n",
       "      <th>Total</th>\n",
       "      <th>HP</th>\n",
       "      <th>Attack</th>\n",
       "      <th>Defense</th>\n",
       "      <th>Sp. Atk</th>\n",
       "      <th>Sp. Def</th>\n",
       "      <th>Speed</th>\n",
       "      <th>Generation</th>\n",
       "      <th>Legendary</th>\n",
       "    </tr>\n",
       "  </thead>\n",
       "  <tbody>\n",
       "    <tr>\n",
       "      <th>0</th>\n",
       "      <td>1</td>\n",
       "      <td>Bulbasaur</td>\n",
       "      <td>Grass</td>\n",
       "      <td>Poison</td>\n",
       "      <td>318</td>\n",
       "      <td>45</td>\n",
       "      <td>49</td>\n",
       "      <td>49</td>\n",
       "      <td>65</td>\n",
       "      <td>65</td>\n",
       "      <td>45</td>\n",
       "      <td>1</td>\n",
       "      <td>False</td>\n",
       "    </tr>\n",
       "    <tr>\n",
       "      <th>1</th>\n",
       "      <td>2</td>\n",
       "      <td>Ivysaur</td>\n",
       "      <td>Grass</td>\n",
       "      <td>Poison</td>\n",
       "      <td>405</td>\n",
       "      <td>60</td>\n",
       "      <td>62</td>\n",
       "      <td>63</td>\n",
       "      <td>80</td>\n",
       "      <td>80</td>\n",
       "      <td>60</td>\n",
       "      <td>1</td>\n",
       "      <td>False</td>\n",
       "    </tr>\n",
       "    <tr>\n",
       "      <th>2</th>\n",
       "      <td>3</td>\n",
       "      <td>Venusaur</td>\n",
       "      <td>Grass</td>\n",
       "      <td>Poison</td>\n",
       "      <td>525</td>\n",
       "      <td>80</td>\n",
       "      <td>82</td>\n",
       "      <td>83</td>\n",
       "      <td>100</td>\n",
       "      <td>100</td>\n",
       "      <td>80</td>\n",
       "      <td>1</td>\n",
       "      <td>False</td>\n",
       "    </tr>\n",
       "    <tr>\n",
       "      <th>3</th>\n",
       "      <td>3</td>\n",
       "      <td>VenusaurMega Venusaur</td>\n",
       "      <td>Grass</td>\n",
       "      <td>Poison</td>\n",
       "      <td>625</td>\n",
       "      <td>80</td>\n",
       "      <td>100</td>\n",
       "      <td>123</td>\n",
       "      <td>122</td>\n",
       "      <td>120</td>\n",
       "      <td>80</td>\n",
       "      <td>1</td>\n",
       "      <td>False</td>\n",
       "    </tr>\n",
       "    <tr>\n",
       "      <th>4</th>\n",
       "      <td>4</td>\n",
       "      <td>Charmander</td>\n",
       "      <td>Fire</td>\n",
       "      <td>NaN</td>\n",
       "      <td>309</td>\n",
       "      <td>39</td>\n",
       "      <td>52</td>\n",
       "      <td>43</td>\n",
       "      <td>60</td>\n",
       "      <td>50</td>\n",
       "      <td>65</td>\n",
       "      <td>1</td>\n",
       "      <td>False</td>\n",
       "    </tr>\n",
       "  </tbody>\n",
       "</table>\n",
       "</div>"
      ],
      "text/plain": [
       "   #                   Name Type 1  Type 2  Total  HP  Attack  Defense  \\\n",
       "0  1              Bulbasaur  Grass  Poison    318  45      49       49   \n",
       "1  2                Ivysaur  Grass  Poison    405  60      62       63   \n",
       "2  3               Venusaur  Grass  Poison    525  80      82       83   \n",
       "3  3  VenusaurMega Venusaur  Grass  Poison    625  80     100      123   \n",
       "4  4             Charmander   Fire     NaN    309  39      52       43   \n",
       "\n",
       "   Sp. Atk  Sp. Def  Speed  Generation  Legendary  \n",
       "0       65       65     45           1      False  \n",
       "1       80       80     60           1      False  \n",
       "2      100      100     80           1      False  \n",
       "3      122      120     80           1      False  \n",
       "4       60       50     65           1      False  "
      ]
     },
     "execution_count": 30,
     "metadata": {},
     "output_type": "execute_result"
    }
   ],
   "source": [
    "# Display first 5 rows of the data frame\n",
    "df.head()"
   ]
  },
  {
   "cell_type": "code",
   "execution_count": 31,
   "id": "1f4558ad",
   "metadata": {},
   "outputs": [
    {
     "data": {
      "application/vnd.microsoft.datawrangler.viewer.v0+json": {
       "columns": [
        {
         "name": "index",
         "rawType": "int64",
         "type": "integer"
        },
        {
         "name": "#",
         "rawType": "int64",
         "type": "integer"
        },
        {
         "name": "Name",
         "rawType": "object",
         "type": "string"
        },
        {
         "name": "Type 1",
         "rawType": "object",
         "type": "string"
        },
        {
         "name": "Type 2",
         "rawType": "object",
         "type": "unknown"
        },
        {
         "name": "Total",
         "rawType": "int64",
         "type": "integer"
        },
        {
         "name": "HP",
         "rawType": "int64",
         "type": "integer"
        },
        {
         "name": "Attack",
         "rawType": "int64",
         "type": "integer"
        },
        {
         "name": "Defense",
         "rawType": "int64",
         "type": "integer"
        },
        {
         "name": "Sp. Atk",
         "rawType": "int64",
         "type": "integer"
        },
        {
         "name": "Sp. Def",
         "rawType": "int64",
         "type": "integer"
        },
        {
         "name": "Speed",
         "rawType": "int64",
         "type": "integer"
        },
        {
         "name": "Generation",
         "rawType": "int64",
         "type": "integer"
        },
        {
         "name": "Legendary",
         "rawType": "bool",
         "type": "boolean"
        }
       ],
       "ref": "20195245-e7b4-4123-ae30-8fcd51432ec2",
       "rows": [
        [
         "0",
         "1",
         "Bulbasaur",
         "Grass",
         "Poison",
         "318",
         "45",
         "49",
         "49",
         "65",
         "65",
         "45",
         "1",
         "False"
        ],
        [
         "1",
         "2",
         "Ivysaur",
         "Grass",
         "Poison",
         "405",
         "60",
         "62",
         "63",
         "80",
         "80",
         "60",
         "1",
         "False"
        ],
        [
         "2",
         "3",
         "Venusaur",
         "Grass",
         "Poison",
         "525",
         "80",
         "82",
         "83",
         "100",
         "100",
         "80",
         "1",
         "False"
        ],
        [
         "3",
         "3",
         "VenusaurMega Venusaur",
         "Grass",
         "Poison",
         "625",
         "80",
         "100",
         "123",
         "122",
         "120",
         "80",
         "1",
         "False"
        ],
        [
         "4",
         "4",
         "Charmander",
         "Fire",
         null,
         "309",
         "39",
         "52",
         "43",
         "60",
         "50",
         "65",
         "1",
         "False"
        ],
        [
         "5",
         "5",
         "Charmeleon",
         "Fire",
         null,
         "405",
         "58",
         "64",
         "58",
         "80",
         "65",
         "80",
         "1",
         "False"
        ],
        [
         "6",
         "6",
         "Charizard",
         "Fire",
         "Flying",
         "534",
         "78",
         "84",
         "78",
         "109",
         "85",
         "100",
         "1",
         "False"
        ],
        [
         "7",
         "6",
         "CharizardMega Charizard X",
         "Fire",
         "Dragon",
         "634",
         "78",
         "130",
         "111",
         "130",
         "85",
         "100",
         "1",
         "False"
        ],
        [
         "8",
         "6",
         "CharizardMega Charizard Y",
         "Fire",
         "Flying",
         "634",
         "78",
         "104",
         "78",
         "159",
         "115",
         "100",
         "1",
         "False"
        ],
        [
         "9",
         "7",
         "Squirtle",
         "Water",
         null,
         "314",
         "44",
         "48",
         "65",
         "50",
         "64",
         "43",
         "1",
         "False"
        ]
       ],
       "shape": {
        "columns": 13,
        "rows": 10
       }
      },
      "text/html": [
       "<div>\n",
       "<style scoped>\n",
       "    .dataframe tbody tr th:only-of-type {\n",
       "        vertical-align: middle;\n",
       "    }\n",
       "\n",
       "    .dataframe tbody tr th {\n",
       "        vertical-align: top;\n",
       "    }\n",
       "\n",
       "    .dataframe thead th {\n",
       "        text-align: right;\n",
       "    }\n",
       "</style>\n",
       "<table border=\"1\" class=\"dataframe\">\n",
       "  <thead>\n",
       "    <tr style=\"text-align: right;\">\n",
       "      <th></th>\n",
       "      <th>#</th>\n",
       "      <th>Name</th>\n",
       "      <th>Type 1</th>\n",
       "      <th>Type 2</th>\n",
       "      <th>Total</th>\n",
       "      <th>HP</th>\n",
       "      <th>Attack</th>\n",
       "      <th>Defense</th>\n",
       "      <th>Sp. Atk</th>\n",
       "      <th>Sp. Def</th>\n",
       "      <th>Speed</th>\n",
       "      <th>Generation</th>\n",
       "      <th>Legendary</th>\n",
       "    </tr>\n",
       "  </thead>\n",
       "  <tbody>\n",
       "    <tr>\n",
       "      <th>0</th>\n",
       "      <td>1</td>\n",
       "      <td>Bulbasaur</td>\n",
       "      <td>Grass</td>\n",
       "      <td>Poison</td>\n",
       "      <td>318</td>\n",
       "      <td>45</td>\n",
       "      <td>49</td>\n",
       "      <td>49</td>\n",
       "      <td>65</td>\n",
       "      <td>65</td>\n",
       "      <td>45</td>\n",
       "      <td>1</td>\n",
       "      <td>False</td>\n",
       "    </tr>\n",
       "    <tr>\n",
       "      <th>1</th>\n",
       "      <td>2</td>\n",
       "      <td>Ivysaur</td>\n",
       "      <td>Grass</td>\n",
       "      <td>Poison</td>\n",
       "      <td>405</td>\n",
       "      <td>60</td>\n",
       "      <td>62</td>\n",
       "      <td>63</td>\n",
       "      <td>80</td>\n",
       "      <td>80</td>\n",
       "      <td>60</td>\n",
       "      <td>1</td>\n",
       "      <td>False</td>\n",
       "    </tr>\n",
       "    <tr>\n",
       "      <th>2</th>\n",
       "      <td>3</td>\n",
       "      <td>Venusaur</td>\n",
       "      <td>Grass</td>\n",
       "      <td>Poison</td>\n",
       "      <td>525</td>\n",
       "      <td>80</td>\n",
       "      <td>82</td>\n",
       "      <td>83</td>\n",
       "      <td>100</td>\n",
       "      <td>100</td>\n",
       "      <td>80</td>\n",
       "      <td>1</td>\n",
       "      <td>False</td>\n",
       "    </tr>\n",
       "    <tr>\n",
       "      <th>3</th>\n",
       "      <td>3</td>\n",
       "      <td>VenusaurMega Venusaur</td>\n",
       "      <td>Grass</td>\n",
       "      <td>Poison</td>\n",
       "      <td>625</td>\n",
       "      <td>80</td>\n",
       "      <td>100</td>\n",
       "      <td>123</td>\n",
       "      <td>122</td>\n",
       "      <td>120</td>\n",
       "      <td>80</td>\n",
       "      <td>1</td>\n",
       "      <td>False</td>\n",
       "    </tr>\n",
       "    <tr>\n",
       "      <th>4</th>\n",
       "      <td>4</td>\n",
       "      <td>Charmander</td>\n",
       "      <td>Fire</td>\n",
       "      <td>NaN</td>\n",
       "      <td>309</td>\n",
       "      <td>39</td>\n",
       "      <td>52</td>\n",
       "      <td>43</td>\n",
       "      <td>60</td>\n",
       "      <td>50</td>\n",
       "      <td>65</td>\n",
       "      <td>1</td>\n",
       "      <td>False</td>\n",
       "    </tr>\n",
       "    <tr>\n",
       "      <th>5</th>\n",
       "      <td>5</td>\n",
       "      <td>Charmeleon</td>\n",
       "      <td>Fire</td>\n",
       "      <td>NaN</td>\n",
       "      <td>405</td>\n",
       "      <td>58</td>\n",
       "      <td>64</td>\n",
       "      <td>58</td>\n",
       "      <td>80</td>\n",
       "      <td>65</td>\n",
       "      <td>80</td>\n",
       "      <td>1</td>\n",
       "      <td>False</td>\n",
       "    </tr>\n",
       "    <tr>\n",
       "      <th>6</th>\n",
       "      <td>6</td>\n",
       "      <td>Charizard</td>\n",
       "      <td>Fire</td>\n",
       "      <td>Flying</td>\n",
       "      <td>534</td>\n",
       "      <td>78</td>\n",
       "      <td>84</td>\n",
       "      <td>78</td>\n",
       "      <td>109</td>\n",
       "      <td>85</td>\n",
       "      <td>100</td>\n",
       "      <td>1</td>\n",
       "      <td>False</td>\n",
       "    </tr>\n",
       "    <tr>\n",
       "      <th>7</th>\n",
       "      <td>6</td>\n",
       "      <td>CharizardMega Charizard X</td>\n",
       "      <td>Fire</td>\n",
       "      <td>Dragon</td>\n",
       "      <td>634</td>\n",
       "      <td>78</td>\n",
       "      <td>130</td>\n",
       "      <td>111</td>\n",
       "      <td>130</td>\n",
       "      <td>85</td>\n",
       "      <td>100</td>\n",
       "      <td>1</td>\n",
       "      <td>False</td>\n",
       "    </tr>\n",
       "    <tr>\n",
       "      <th>8</th>\n",
       "      <td>6</td>\n",
       "      <td>CharizardMega Charizard Y</td>\n",
       "      <td>Fire</td>\n",
       "      <td>Flying</td>\n",
       "      <td>634</td>\n",
       "      <td>78</td>\n",
       "      <td>104</td>\n",
       "      <td>78</td>\n",
       "      <td>159</td>\n",
       "      <td>115</td>\n",
       "      <td>100</td>\n",
       "      <td>1</td>\n",
       "      <td>False</td>\n",
       "    </tr>\n",
       "    <tr>\n",
       "      <th>9</th>\n",
       "      <td>7</td>\n",
       "      <td>Squirtle</td>\n",
       "      <td>Water</td>\n",
       "      <td>NaN</td>\n",
       "      <td>314</td>\n",
       "      <td>44</td>\n",
       "      <td>48</td>\n",
       "      <td>65</td>\n",
       "      <td>50</td>\n",
       "      <td>64</td>\n",
       "      <td>43</td>\n",
       "      <td>1</td>\n",
       "      <td>False</td>\n",
       "    </tr>\n",
       "  </tbody>\n",
       "</table>\n",
       "</div>"
      ],
      "text/plain": [
       "   #                       Name Type 1  Type 2  Total  HP  Attack  Defense  \\\n",
       "0  1                  Bulbasaur  Grass  Poison    318  45      49       49   \n",
       "1  2                    Ivysaur  Grass  Poison    405  60      62       63   \n",
       "2  3                   Venusaur  Grass  Poison    525  80      82       83   \n",
       "3  3      VenusaurMega Venusaur  Grass  Poison    625  80     100      123   \n",
       "4  4                 Charmander   Fire     NaN    309  39      52       43   \n",
       "5  5                 Charmeleon   Fire     NaN    405  58      64       58   \n",
       "6  6                  Charizard   Fire  Flying    534  78      84       78   \n",
       "7  6  CharizardMega Charizard X   Fire  Dragon    634  78     130      111   \n",
       "8  6  CharizardMega Charizard Y   Fire  Flying    634  78     104       78   \n",
       "9  7                   Squirtle  Water     NaN    314  44      48       65   \n",
       "\n",
       "   Sp. Atk  Sp. Def  Speed  Generation  Legendary  \n",
       "0       65       65     45           1      False  \n",
       "1       80       80     60           1      False  \n",
       "2      100      100     80           1      False  \n",
       "3      122      120     80           1      False  \n",
       "4       60       50     65           1      False  \n",
       "5       80       65     80           1      False  \n",
       "6      109       85    100           1      False  \n",
       "7      130       85    100           1      False  \n",
       "8      159      115    100           1      False  \n",
       "9       50       64     43           1      False  "
      ]
     },
     "execution_count": 31,
     "metadata": {},
     "output_type": "execute_result"
    }
   ],
   "source": [
    "# Display first 10 rows of the data frame\n",
    "df.head(10)"
   ]
  },
  {
   "cell_type": "markdown",
   "id": "7b0bc706",
   "metadata": {},
   "source": [
    "### Data Frame Info"
   ]
  },
  {
   "cell_type": "code",
   "execution_count": 32,
   "id": "a4c85b70",
   "metadata": {},
   "outputs": [
    {
     "name": "stdout",
     "output_type": "stream",
     "text": [
      "<class 'pandas.core.frame.DataFrame'>\n",
      "RangeIndex: 800 entries, 0 to 799\n",
      "Data columns (total 13 columns):\n",
      " #   Column      Non-Null Count  Dtype \n",
      "---  ------      --------------  ----- \n",
      " 0   #           800 non-null    int64 \n",
      " 1   Name        800 non-null    object\n",
      " 2   Type 1      800 non-null    object\n",
      " 3   Type 2      414 non-null    object\n",
      " 4   Total       800 non-null    int64 \n",
      " 5   HP          800 non-null    int64 \n",
      " 6   Attack      800 non-null    int64 \n",
      " 7   Defense     800 non-null    int64 \n",
      " 8   Sp. Atk     800 non-null    int64 \n",
      " 9   Sp. Def     800 non-null    int64 \n",
      " 10  Speed       800 non-null    int64 \n",
      " 11  Generation  800 non-null    int64 \n",
      " 12  Legendary   800 non-null    bool  \n",
      "dtypes: bool(1), int64(9), object(3)\n",
      "memory usage: 75.9+ KB\n"
     ]
    }
   ],
   "source": [
    "df.info()\n",
    "\n",
    "# object = string here, all that are not numbers or boolean are objects"
   ]
  },
  {
   "cell_type": "markdown",
   "id": "e100a3c7",
   "metadata": {},
   "source": [
    "### Descriptive Statistics"
   ]
  },
  {
   "cell_type": "code",
   "execution_count": 33,
   "id": "f7662886",
   "metadata": {},
   "outputs": [
    {
     "data": {
      "application/vnd.microsoft.datawrangler.viewer.v0+json": {
       "columns": [
        {
         "name": "index",
         "rawType": "object",
         "type": "string"
        },
        {
         "name": "#",
         "rawType": "float64",
         "type": "float"
        },
        {
         "name": "Total",
         "rawType": "float64",
         "type": "float"
        },
        {
         "name": "HP",
         "rawType": "float64",
         "type": "float"
        },
        {
         "name": "Attack",
         "rawType": "float64",
         "type": "float"
        },
        {
         "name": "Defense",
         "rawType": "float64",
         "type": "float"
        },
        {
         "name": "Sp. Atk",
         "rawType": "float64",
         "type": "float"
        },
        {
         "name": "Sp. Def",
         "rawType": "float64",
         "type": "float"
        },
        {
         "name": "Speed",
         "rawType": "float64",
         "type": "float"
        },
        {
         "name": "Generation",
         "rawType": "float64",
         "type": "float"
        }
       ],
       "ref": "dd952f72-5610-4927-a63a-f7b1b25da33e",
       "rows": [
        [
         "count",
         "800.0",
         "800.0",
         "800.0",
         "800.0",
         "800.0",
         "800.0",
         "800.0",
         "800.0",
         "800.0"
        ],
        [
         "mean",
         "362.81375",
         "435.1025",
         "69.25875",
         "79.00125",
         "73.8425",
         "72.82",
         "71.9025",
         "68.2775",
         "3.32375"
        ],
        [
         "std",
         "208.34379756406662",
         "119.96303975551899",
         "25.53466903233207",
         "32.45736586949845",
         "31.183500559332934",
         "32.7222941688016",
         "27.82891579711746",
         "29.060473717161464",
         "1.6612904004849451"
        ],
        [
         "min",
         "1.0",
         "180.0",
         "1.0",
         "5.0",
         "5.0",
         "10.0",
         "20.0",
         "5.0",
         "1.0"
        ],
        [
         "25%",
         "184.75",
         "330.0",
         "50.0",
         "55.0",
         "50.0",
         "49.75",
         "50.0",
         "45.0",
         "2.0"
        ],
        [
         "50%",
         "364.5",
         "450.0",
         "65.0",
         "75.0",
         "70.0",
         "65.0",
         "70.0",
         "65.0",
         "3.0"
        ],
        [
         "75%",
         "539.25",
         "515.0",
         "80.0",
         "100.0",
         "90.0",
         "95.0",
         "90.0",
         "90.0",
         "5.0"
        ],
        [
         "max",
         "721.0",
         "780.0",
         "255.0",
         "190.0",
         "230.0",
         "194.0",
         "230.0",
         "180.0",
         "6.0"
        ]
       ],
       "shape": {
        "columns": 9,
        "rows": 8
       }
      },
      "text/html": [
       "<div>\n",
       "<style scoped>\n",
       "    .dataframe tbody tr th:only-of-type {\n",
       "        vertical-align: middle;\n",
       "    }\n",
       "\n",
       "    .dataframe tbody tr th {\n",
       "        vertical-align: top;\n",
       "    }\n",
       "\n",
       "    .dataframe thead th {\n",
       "        text-align: right;\n",
       "    }\n",
       "</style>\n",
       "<table border=\"1\" class=\"dataframe\">\n",
       "  <thead>\n",
       "    <tr style=\"text-align: right;\">\n",
       "      <th></th>\n",
       "      <th>#</th>\n",
       "      <th>Total</th>\n",
       "      <th>HP</th>\n",
       "      <th>Attack</th>\n",
       "      <th>Defense</th>\n",
       "      <th>Sp. Atk</th>\n",
       "      <th>Sp. Def</th>\n",
       "      <th>Speed</th>\n",
       "      <th>Generation</th>\n",
       "    </tr>\n",
       "  </thead>\n",
       "  <tbody>\n",
       "    <tr>\n",
       "      <th>count</th>\n",
       "      <td>800.000000</td>\n",
       "      <td>800.00000</td>\n",
       "      <td>800.000000</td>\n",
       "      <td>800.000000</td>\n",
       "      <td>800.000000</td>\n",
       "      <td>800.000000</td>\n",
       "      <td>800.000000</td>\n",
       "      <td>800.000000</td>\n",
       "      <td>800.00000</td>\n",
       "    </tr>\n",
       "    <tr>\n",
       "      <th>mean</th>\n",
       "      <td>362.813750</td>\n",
       "      <td>435.10250</td>\n",
       "      <td>69.258750</td>\n",
       "      <td>79.001250</td>\n",
       "      <td>73.842500</td>\n",
       "      <td>72.820000</td>\n",
       "      <td>71.902500</td>\n",
       "      <td>68.277500</td>\n",
       "      <td>3.32375</td>\n",
       "    </tr>\n",
       "    <tr>\n",
       "      <th>std</th>\n",
       "      <td>208.343798</td>\n",
       "      <td>119.96304</td>\n",
       "      <td>25.534669</td>\n",
       "      <td>32.457366</td>\n",
       "      <td>31.183501</td>\n",
       "      <td>32.722294</td>\n",
       "      <td>27.828916</td>\n",
       "      <td>29.060474</td>\n",
       "      <td>1.66129</td>\n",
       "    </tr>\n",
       "    <tr>\n",
       "      <th>min</th>\n",
       "      <td>1.000000</td>\n",
       "      <td>180.00000</td>\n",
       "      <td>1.000000</td>\n",
       "      <td>5.000000</td>\n",
       "      <td>5.000000</td>\n",
       "      <td>10.000000</td>\n",
       "      <td>20.000000</td>\n",
       "      <td>5.000000</td>\n",
       "      <td>1.00000</td>\n",
       "    </tr>\n",
       "    <tr>\n",
       "      <th>25%</th>\n",
       "      <td>184.750000</td>\n",
       "      <td>330.00000</td>\n",
       "      <td>50.000000</td>\n",
       "      <td>55.000000</td>\n",
       "      <td>50.000000</td>\n",
       "      <td>49.750000</td>\n",
       "      <td>50.000000</td>\n",
       "      <td>45.000000</td>\n",
       "      <td>2.00000</td>\n",
       "    </tr>\n",
       "    <tr>\n",
       "      <th>50%</th>\n",
       "      <td>364.500000</td>\n",
       "      <td>450.00000</td>\n",
       "      <td>65.000000</td>\n",
       "      <td>75.000000</td>\n",
       "      <td>70.000000</td>\n",
       "      <td>65.000000</td>\n",
       "      <td>70.000000</td>\n",
       "      <td>65.000000</td>\n",
       "      <td>3.00000</td>\n",
       "    </tr>\n",
       "    <tr>\n",
       "      <th>75%</th>\n",
       "      <td>539.250000</td>\n",
       "      <td>515.00000</td>\n",
       "      <td>80.000000</td>\n",
       "      <td>100.000000</td>\n",
       "      <td>90.000000</td>\n",
       "      <td>95.000000</td>\n",
       "      <td>90.000000</td>\n",
       "      <td>90.000000</td>\n",
       "      <td>5.00000</td>\n",
       "    </tr>\n",
       "    <tr>\n",
       "      <th>max</th>\n",
       "      <td>721.000000</td>\n",
       "      <td>780.00000</td>\n",
       "      <td>255.000000</td>\n",
       "      <td>190.000000</td>\n",
       "      <td>230.000000</td>\n",
       "      <td>194.000000</td>\n",
       "      <td>230.000000</td>\n",
       "      <td>180.000000</td>\n",
       "      <td>6.00000</td>\n",
       "    </tr>\n",
       "  </tbody>\n",
       "</table>\n",
       "</div>"
      ],
      "text/plain": [
       "                #      Total          HP      Attack     Defense     Sp. Atk  \\\n",
       "count  800.000000  800.00000  800.000000  800.000000  800.000000  800.000000   \n",
       "mean   362.813750  435.10250   69.258750   79.001250   73.842500   72.820000   \n",
       "std    208.343798  119.96304   25.534669   32.457366   31.183501   32.722294   \n",
       "min      1.000000  180.00000    1.000000    5.000000    5.000000   10.000000   \n",
       "25%    184.750000  330.00000   50.000000   55.000000   50.000000   49.750000   \n",
       "50%    364.500000  450.00000   65.000000   75.000000   70.000000   65.000000   \n",
       "75%    539.250000  515.00000   80.000000  100.000000   90.000000   95.000000   \n",
       "max    721.000000  780.00000  255.000000  190.000000  230.000000  194.000000   \n",
       "\n",
       "          Sp. Def       Speed  Generation  \n",
       "count  800.000000  800.000000   800.00000  \n",
       "mean    71.902500   68.277500     3.32375  \n",
       "std     27.828916   29.060474     1.66129  \n",
       "min     20.000000    5.000000     1.00000  \n",
       "25%     50.000000   45.000000     2.00000  \n",
       "50%     70.000000   65.000000     3.00000  \n",
       "75%     90.000000   90.000000     5.00000  \n",
       "max    230.000000  180.000000     6.00000  "
      ]
     },
     "execution_count": 33,
     "metadata": {},
     "output_type": "execute_result"
    }
   ],
   "source": [
    "df.describe()"
   ]
  },
  {
   "cell_type": "markdown",
   "id": "838d2213",
   "metadata": {},
   "source": [
    "### Performance Basic Data Cleaning"
   ]
  },
  {
   "cell_type": "code",
   "execution_count": 34,
   "id": "31cd9c3d",
   "metadata": {},
   "outputs": [
    {
     "data": {
      "application/vnd.microsoft.datawrangler.viewer.v0+json": {
       "columns": [
        {
         "name": "index",
         "rawType": "int64",
         "type": "integer"
        },
        {
         "name": "#",
         "rawType": "int64",
         "type": "integer"
        },
        {
         "name": "Name",
         "rawType": "object",
         "type": "string"
        },
        {
         "name": "Type1",
         "rawType": "object",
         "type": "string"
        },
        {
         "name": "Type2",
         "rawType": "object",
         "type": "unknown"
        },
        {
         "name": "Total",
         "rawType": "int64",
         "type": "integer"
        },
        {
         "name": "HP",
         "rawType": "int64",
         "type": "integer"
        },
        {
         "name": "Attack",
         "rawType": "int64",
         "type": "integer"
        },
        {
         "name": "Defense",
         "rawType": "int64",
         "type": "integer"
        },
        {
         "name": "Sp_Atk",
         "rawType": "int64",
         "type": "integer"
        },
        {
         "name": "Sp_Def",
         "rawType": "int64",
         "type": "integer"
        },
        {
         "name": "Speed",
         "rawType": "int64",
         "type": "integer"
        },
        {
         "name": "Generation",
         "rawType": "int64",
         "type": "integer"
        },
        {
         "name": "Legendary",
         "rawType": "bool",
         "type": "boolean"
        }
       ],
       "ref": "2c20571d-1fda-4025-b6e0-7b97bd55de25",
       "rows": [
        [
         "0",
         "1",
         "Bulbasaur",
         "Grass",
         "Poison",
         "318",
         "45",
         "49",
         "49",
         "65",
         "65",
         "45",
         "1",
         "False"
        ],
        [
         "1",
         "2",
         "Ivysaur",
         "Grass",
         "Poison",
         "405",
         "60",
         "62",
         "63",
         "80",
         "80",
         "60",
         "1",
         "False"
        ],
        [
         "2",
         "3",
         "Venusaur",
         "Grass",
         "Poison",
         "525",
         "80",
         "82",
         "83",
         "100",
         "100",
         "80",
         "1",
         "False"
        ],
        [
         "3",
         "3",
         "VenusaurMega Venusaur",
         "Grass",
         "Poison",
         "625",
         "80",
         "100",
         "123",
         "122",
         "120",
         "80",
         "1",
         "False"
        ],
        [
         "4",
         "4",
         "Charmander",
         "Fire",
         null,
         "309",
         "39",
         "52",
         "43",
         "60",
         "50",
         "65",
         "1",
         "False"
        ],
        [
         "5",
         "5",
         "Charmeleon",
         "Fire",
         null,
         "405",
         "58",
         "64",
         "58",
         "80",
         "65",
         "80",
         "1",
         "False"
        ],
        [
         "6",
         "6",
         "Charizard",
         "Fire",
         "Flying",
         "534",
         "78",
         "84",
         "78",
         "109",
         "85",
         "100",
         "1",
         "False"
        ],
        [
         "7",
         "6",
         "CharizardMega Charizard X",
         "Fire",
         "Dragon",
         "634",
         "78",
         "130",
         "111",
         "130",
         "85",
         "100",
         "1",
         "False"
        ],
        [
         "8",
         "6",
         "CharizardMega Charizard Y",
         "Fire",
         "Flying",
         "634",
         "78",
         "104",
         "78",
         "159",
         "115",
         "100",
         "1",
         "False"
        ],
        [
         "9",
         "7",
         "Squirtle",
         "Water",
         null,
         "314",
         "44",
         "48",
         "65",
         "50",
         "64",
         "43",
         "1",
         "False"
        ],
        [
         "10",
         "8",
         "Wartortle",
         "Water",
         null,
         "405",
         "59",
         "63",
         "80",
         "65",
         "80",
         "58",
         "1",
         "False"
        ],
        [
         "11",
         "9",
         "Blastoise",
         "Water",
         null,
         "530",
         "79",
         "83",
         "100",
         "85",
         "105",
         "78",
         "1",
         "False"
        ],
        [
         "12",
         "9",
         "BlastoiseMega Blastoise",
         "Water",
         null,
         "630",
         "79",
         "103",
         "120",
         "135",
         "115",
         "78",
         "1",
         "False"
        ],
        [
         "13",
         "10",
         "Caterpie",
         "Bug",
         null,
         "195",
         "45",
         "30",
         "35",
         "20",
         "20",
         "45",
         "1",
         "False"
        ],
        [
         "14",
         "11",
         "Metapod",
         "Bug",
         null,
         "205",
         "50",
         "20",
         "55",
         "25",
         "25",
         "30",
         "1",
         "False"
        ],
        [
         "15",
         "12",
         "Butterfree",
         "Bug",
         "Flying",
         "395",
         "60",
         "45",
         "50",
         "90",
         "80",
         "70",
         "1",
         "False"
        ],
        [
         "16",
         "13",
         "Weedle",
         "Bug",
         "Poison",
         "195",
         "40",
         "35",
         "30",
         "20",
         "20",
         "50",
         "1",
         "False"
        ],
        [
         "17",
         "14",
         "Kakuna",
         "Bug",
         "Poison",
         "205",
         "45",
         "25",
         "50",
         "25",
         "25",
         "35",
         "1",
         "False"
        ],
        [
         "18",
         "15",
         "Beedrill",
         "Bug",
         "Poison",
         "395",
         "65",
         "90",
         "40",
         "45",
         "80",
         "75",
         "1",
         "False"
        ],
        [
         "19",
         "15",
         "BeedrillMega Beedrill",
         "Bug",
         "Poison",
         "495",
         "65",
         "150",
         "40",
         "15",
         "80",
         "145",
         "1",
         "False"
        ],
        [
         "20",
         "16",
         "Pidgey",
         "Normal",
         "Flying",
         "251",
         "40",
         "45",
         "40",
         "35",
         "35",
         "56",
         "1",
         "False"
        ],
        [
         "21",
         "17",
         "Pidgeotto",
         "Normal",
         "Flying",
         "349",
         "63",
         "60",
         "55",
         "50",
         "50",
         "71",
         "1",
         "False"
        ],
        [
         "22",
         "18",
         "Pidgeot",
         "Normal",
         "Flying",
         "479",
         "83",
         "80",
         "75",
         "70",
         "70",
         "101",
         "1",
         "False"
        ],
        [
         "23",
         "18",
         "PidgeotMega Pidgeot",
         "Normal",
         "Flying",
         "579",
         "83",
         "80",
         "80",
         "135",
         "80",
         "121",
         "1",
         "False"
        ],
        [
         "24",
         "19",
         "Rattata",
         "Normal",
         null,
         "253",
         "30",
         "56",
         "35",
         "25",
         "35",
         "72",
         "1",
         "False"
        ],
        [
         "25",
         "20",
         "Raticate",
         "Normal",
         null,
         "413",
         "55",
         "81",
         "60",
         "50",
         "70",
         "97",
         "1",
         "False"
        ],
        [
         "26",
         "21",
         "Spearow",
         "Normal",
         "Flying",
         "262",
         "40",
         "60",
         "30",
         "31",
         "31",
         "70",
         "1",
         "False"
        ],
        [
         "27",
         "22",
         "Fearow",
         "Normal",
         "Flying",
         "442",
         "65",
         "90",
         "65",
         "61",
         "61",
         "100",
         "1",
         "False"
        ],
        [
         "28",
         "23",
         "Ekans",
         "Poison",
         null,
         "288",
         "35",
         "60",
         "44",
         "40",
         "54",
         "55",
         "1",
         "False"
        ],
        [
         "29",
         "24",
         "Arbok",
         "Poison",
         null,
         "438",
         "60",
         "85",
         "69",
         "65",
         "79",
         "80",
         "1",
         "False"
        ],
        [
         "30",
         "25",
         "Pikachu",
         "Electric",
         null,
         "320",
         "35",
         "55",
         "40",
         "50",
         "50",
         "90",
         "1",
         "False"
        ],
        [
         "31",
         "26",
         "Raichu",
         "Electric",
         null,
         "485",
         "60",
         "90",
         "55",
         "90",
         "80",
         "110",
         "1",
         "False"
        ],
        [
         "32",
         "27",
         "Sandshrew",
         "Ground",
         null,
         "300",
         "50",
         "75",
         "85",
         "20",
         "30",
         "40",
         "1",
         "False"
        ],
        [
         "33",
         "28",
         "Sandslash",
         "Ground",
         null,
         "450",
         "75",
         "100",
         "110",
         "45",
         "55",
         "65",
         "1",
         "False"
        ],
        [
         "34",
         "29",
         "Nidoran♀",
         "Poison",
         null,
         "275",
         "55",
         "47",
         "52",
         "40",
         "40",
         "41",
         "1",
         "False"
        ],
        [
         "35",
         "30",
         "Nidorina",
         "Poison",
         null,
         "365",
         "70",
         "62",
         "67",
         "55",
         "55",
         "56",
         "1",
         "False"
        ],
        [
         "36",
         "31",
         "Nidoqueen",
         "Poison",
         "Ground",
         "505",
         "90",
         "92",
         "87",
         "75",
         "85",
         "76",
         "1",
         "False"
        ],
        [
         "37",
         "32",
         "Nidoran♂",
         "Poison",
         null,
         "273",
         "46",
         "57",
         "40",
         "40",
         "40",
         "50",
         "1",
         "False"
        ],
        [
         "38",
         "33",
         "Nidorino",
         "Poison",
         null,
         "365",
         "61",
         "72",
         "57",
         "55",
         "55",
         "65",
         "1",
         "False"
        ],
        [
         "39",
         "34",
         "Nidoking",
         "Poison",
         "Ground",
         "505",
         "81",
         "102",
         "77",
         "85",
         "75",
         "85",
         "1",
         "False"
        ],
        [
         "40",
         "35",
         "Clefairy",
         "Fairy",
         null,
         "323",
         "70",
         "45",
         "48",
         "60",
         "65",
         "35",
         "1",
         "False"
        ],
        [
         "41",
         "36",
         "Clefable",
         "Fairy",
         null,
         "483",
         "95",
         "70",
         "73",
         "95",
         "90",
         "60",
         "1",
         "False"
        ],
        [
         "42",
         "37",
         "Vulpix",
         "Fire",
         null,
         "299",
         "38",
         "41",
         "40",
         "50",
         "65",
         "65",
         "1",
         "False"
        ],
        [
         "43",
         "38",
         "Ninetales",
         "Fire",
         null,
         "505",
         "73",
         "76",
         "75",
         "81",
         "100",
         "100",
         "1",
         "False"
        ],
        [
         "44",
         "39",
         "Jigglypuff",
         "Normal",
         "Fairy",
         "270",
         "115",
         "45",
         "20",
         "45",
         "25",
         "20",
         "1",
         "False"
        ],
        [
         "45",
         "40",
         "Wigglytuff",
         "Normal",
         "Fairy",
         "435",
         "140",
         "70",
         "45",
         "85",
         "50",
         "45",
         "1",
         "False"
        ],
        [
         "46",
         "41",
         "Zubat",
         "Poison",
         "Flying",
         "245",
         "40",
         "45",
         "35",
         "30",
         "40",
         "55",
         "1",
         "False"
        ],
        [
         "47",
         "42",
         "Golbat",
         "Poison",
         "Flying",
         "455",
         "75",
         "80",
         "70",
         "65",
         "75",
         "90",
         "1",
         "False"
        ],
        [
         "48",
         "43",
         "Oddish",
         "Grass",
         "Poison",
         "320",
         "45",
         "50",
         "55",
         "75",
         "65",
         "30",
         "1",
         "False"
        ],
        [
         "49",
         "44",
         "Gloom",
         "Grass",
         "Poison",
         "395",
         "60",
         "65",
         "70",
         "85",
         "75",
         "40",
         "1",
         "False"
        ]
       ],
       "shape": {
        "columns": 13,
        "rows": 800
       }
      },
      "text/html": [
       "<div>\n",
       "<style scoped>\n",
       "    .dataframe tbody tr th:only-of-type {\n",
       "        vertical-align: middle;\n",
       "    }\n",
       "\n",
       "    .dataframe tbody tr th {\n",
       "        vertical-align: top;\n",
       "    }\n",
       "\n",
       "    .dataframe thead th {\n",
       "        text-align: right;\n",
       "    }\n",
       "</style>\n",
       "<table border=\"1\" class=\"dataframe\">\n",
       "  <thead>\n",
       "    <tr style=\"text-align: right;\">\n",
       "      <th></th>\n",
       "      <th>#</th>\n",
       "      <th>Name</th>\n",
       "      <th>Type1</th>\n",
       "      <th>Type2</th>\n",
       "      <th>Total</th>\n",
       "      <th>HP</th>\n",
       "      <th>Attack</th>\n",
       "      <th>Defense</th>\n",
       "      <th>Sp_Atk</th>\n",
       "      <th>Sp_Def</th>\n",
       "      <th>Speed</th>\n",
       "      <th>Generation</th>\n",
       "      <th>Legendary</th>\n",
       "    </tr>\n",
       "  </thead>\n",
       "  <tbody>\n",
       "    <tr>\n",
       "      <th>0</th>\n",
       "      <td>1</td>\n",
       "      <td>Bulbasaur</td>\n",
       "      <td>Grass</td>\n",
       "      <td>Poison</td>\n",
       "      <td>318</td>\n",
       "      <td>45</td>\n",
       "      <td>49</td>\n",
       "      <td>49</td>\n",
       "      <td>65</td>\n",
       "      <td>65</td>\n",
       "      <td>45</td>\n",
       "      <td>1</td>\n",
       "      <td>False</td>\n",
       "    </tr>\n",
       "    <tr>\n",
       "      <th>1</th>\n",
       "      <td>2</td>\n",
       "      <td>Ivysaur</td>\n",
       "      <td>Grass</td>\n",
       "      <td>Poison</td>\n",
       "      <td>405</td>\n",
       "      <td>60</td>\n",
       "      <td>62</td>\n",
       "      <td>63</td>\n",
       "      <td>80</td>\n",
       "      <td>80</td>\n",
       "      <td>60</td>\n",
       "      <td>1</td>\n",
       "      <td>False</td>\n",
       "    </tr>\n",
       "    <tr>\n",
       "      <th>2</th>\n",
       "      <td>3</td>\n",
       "      <td>Venusaur</td>\n",
       "      <td>Grass</td>\n",
       "      <td>Poison</td>\n",
       "      <td>525</td>\n",
       "      <td>80</td>\n",
       "      <td>82</td>\n",
       "      <td>83</td>\n",
       "      <td>100</td>\n",
       "      <td>100</td>\n",
       "      <td>80</td>\n",
       "      <td>1</td>\n",
       "      <td>False</td>\n",
       "    </tr>\n",
       "    <tr>\n",
       "      <th>3</th>\n",
       "      <td>3</td>\n",
       "      <td>VenusaurMega Venusaur</td>\n",
       "      <td>Grass</td>\n",
       "      <td>Poison</td>\n",
       "      <td>625</td>\n",
       "      <td>80</td>\n",
       "      <td>100</td>\n",
       "      <td>123</td>\n",
       "      <td>122</td>\n",
       "      <td>120</td>\n",
       "      <td>80</td>\n",
       "      <td>1</td>\n",
       "      <td>False</td>\n",
       "    </tr>\n",
       "    <tr>\n",
       "      <th>4</th>\n",
       "      <td>4</td>\n",
       "      <td>Charmander</td>\n",
       "      <td>Fire</td>\n",
       "      <td>NaN</td>\n",
       "      <td>309</td>\n",
       "      <td>39</td>\n",
       "      <td>52</td>\n",
       "      <td>43</td>\n",
       "      <td>60</td>\n",
       "      <td>50</td>\n",
       "      <td>65</td>\n",
       "      <td>1</td>\n",
       "      <td>False</td>\n",
       "    </tr>\n",
       "    <tr>\n",
       "      <th>...</th>\n",
       "      <td>...</td>\n",
       "      <td>...</td>\n",
       "      <td>...</td>\n",
       "      <td>...</td>\n",
       "      <td>...</td>\n",
       "      <td>...</td>\n",
       "      <td>...</td>\n",
       "      <td>...</td>\n",
       "      <td>...</td>\n",
       "      <td>...</td>\n",
       "      <td>...</td>\n",
       "      <td>...</td>\n",
       "      <td>...</td>\n",
       "    </tr>\n",
       "    <tr>\n",
       "      <th>795</th>\n",
       "      <td>719</td>\n",
       "      <td>Diancie</td>\n",
       "      <td>Rock</td>\n",
       "      <td>Fairy</td>\n",
       "      <td>600</td>\n",
       "      <td>50</td>\n",
       "      <td>100</td>\n",
       "      <td>150</td>\n",
       "      <td>100</td>\n",
       "      <td>150</td>\n",
       "      <td>50</td>\n",
       "      <td>6</td>\n",
       "      <td>True</td>\n",
       "    </tr>\n",
       "    <tr>\n",
       "      <th>796</th>\n",
       "      <td>719</td>\n",
       "      <td>DiancieMega Diancie</td>\n",
       "      <td>Rock</td>\n",
       "      <td>Fairy</td>\n",
       "      <td>700</td>\n",
       "      <td>50</td>\n",
       "      <td>160</td>\n",
       "      <td>110</td>\n",
       "      <td>160</td>\n",
       "      <td>110</td>\n",
       "      <td>110</td>\n",
       "      <td>6</td>\n",
       "      <td>True</td>\n",
       "    </tr>\n",
       "    <tr>\n",
       "      <th>797</th>\n",
       "      <td>720</td>\n",
       "      <td>HoopaHoopa Confined</td>\n",
       "      <td>Psychic</td>\n",
       "      <td>Ghost</td>\n",
       "      <td>600</td>\n",
       "      <td>80</td>\n",
       "      <td>110</td>\n",
       "      <td>60</td>\n",
       "      <td>150</td>\n",
       "      <td>130</td>\n",
       "      <td>70</td>\n",
       "      <td>6</td>\n",
       "      <td>True</td>\n",
       "    </tr>\n",
       "    <tr>\n",
       "      <th>798</th>\n",
       "      <td>720</td>\n",
       "      <td>HoopaHoopa Unbound</td>\n",
       "      <td>Psychic</td>\n",
       "      <td>Dark</td>\n",
       "      <td>680</td>\n",
       "      <td>80</td>\n",
       "      <td>160</td>\n",
       "      <td>60</td>\n",
       "      <td>170</td>\n",
       "      <td>130</td>\n",
       "      <td>80</td>\n",
       "      <td>6</td>\n",
       "      <td>True</td>\n",
       "    </tr>\n",
       "    <tr>\n",
       "      <th>799</th>\n",
       "      <td>721</td>\n",
       "      <td>Volcanion</td>\n",
       "      <td>Fire</td>\n",
       "      <td>Water</td>\n",
       "      <td>600</td>\n",
       "      <td>80</td>\n",
       "      <td>110</td>\n",
       "      <td>120</td>\n",
       "      <td>130</td>\n",
       "      <td>90</td>\n",
       "      <td>70</td>\n",
       "      <td>6</td>\n",
       "      <td>True</td>\n",
       "    </tr>\n",
       "  </tbody>\n",
       "</table>\n",
       "<p>800 rows × 13 columns</p>\n",
       "</div>"
      ],
      "text/plain": [
       "       #                   Name    Type1   Type2  Total  HP  Attack  Defense  \\\n",
       "0      1              Bulbasaur    Grass  Poison    318  45      49       49   \n",
       "1      2                Ivysaur    Grass  Poison    405  60      62       63   \n",
       "2      3               Venusaur    Grass  Poison    525  80      82       83   \n",
       "3      3  VenusaurMega Venusaur    Grass  Poison    625  80     100      123   \n",
       "4      4             Charmander     Fire     NaN    309  39      52       43   \n",
       "..   ...                    ...      ...     ...    ...  ..     ...      ...   \n",
       "795  719                Diancie     Rock   Fairy    600  50     100      150   \n",
       "796  719    DiancieMega Diancie     Rock   Fairy    700  50     160      110   \n",
       "797  720    HoopaHoopa Confined  Psychic   Ghost    600  80     110       60   \n",
       "798  720     HoopaHoopa Unbound  Psychic    Dark    680  80     160       60   \n",
       "799  721              Volcanion     Fire   Water    600  80     110      120   \n",
       "\n",
       "     Sp_Atk  Sp_Def  Speed  Generation  Legendary  \n",
       "0        65      65     45           1      False  \n",
       "1        80      80     60           1      False  \n",
       "2       100     100     80           1      False  \n",
       "3       122     120     80           1      False  \n",
       "4        60      50     65           1      False  \n",
       "..      ...     ...    ...         ...        ...  \n",
       "795     100     150     50           6       True  \n",
       "796     160     110    110           6       True  \n",
       "797     150     130     70           6       True  \n",
       "798     170     130     80           6       True  \n",
       "799     130      90     70           6       True  \n",
       "\n",
       "[800 rows x 13 columns]"
      ]
     },
     "execution_count": 34,
     "metadata": {},
     "output_type": "execute_result"
    }
   ],
   "source": [
    "df.rename(columns={\n",
    "        'Type 1': 'Type1', \n",
    "        'Type 2': 'Type2',\n",
    "        'Sp. Atk': 'Sp_Atk',\n",
    "        'Sp. Def': 'Sp_Def',\n",
    "    }, inplace=True)\n",
    "\n",
    "df"
   ]
  },
  {
   "cell_type": "code",
   "execution_count": 35,
   "id": "8e2bb0d4",
   "metadata": {},
   "outputs": [
    {
     "data": {
      "application/vnd.microsoft.datawrangler.viewer.v0+json": {
       "columns": [
        {
         "name": "index",
         "rawType": "object",
         "type": "string"
        },
        {
         "name": "0",
         "rawType": "int64",
         "type": "integer"
        }
       ],
       "ref": "9667ee28-aee5-4761-a85b-696925f245bb",
       "rows": [
        [
         "#",
         "0"
        ],
        [
         "Name",
         "0"
        ],
        [
         "Type1",
         "0"
        ],
        [
         "Type2",
         "386"
        ],
        [
         "Total",
         "0"
        ],
        [
         "HP",
         "0"
        ],
        [
         "Attack",
         "0"
        ],
        [
         "Defense",
         "0"
        ],
        [
         "Sp_Atk",
         "0"
        ],
        [
         "Sp_Def",
         "0"
        ],
        [
         "Speed",
         "0"
        ],
        [
         "Generation",
         "0"
        ],
        [
         "Legendary",
         "0"
        ]
       ],
       "shape": {
        "columns": 1,
        "rows": 13
       }
      },
      "text/plain": [
       "#               0\n",
       "Name            0\n",
       "Type1           0\n",
       "Type2         386\n",
       "Total           0\n",
       "HP              0\n",
       "Attack          0\n",
       "Defense         0\n",
       "Sp_Atk          0\n",
       "Sp_Def          0\n",
       "Speed           0\n",
       "Generation      0\n",
       "Legendary       0\n",
       "dtype: int64"
      ]
     },
     "execution_count": 35,
     "metadata": {},
     "output_type": "execute_result"
    }
   ],
   "source": [
    "na_counts = df.isna().sum()\n",
    "\n",
    "na_counts"
   ]
  },
  {
   "cell_type": "code",
   "execution_count": 36,
   "id": "fd625c2a",
   "metadata": {},
   "outputs": [
    {
     "name": "stderr",
     "output_type": "stream",
     "text": [
      "C:\\Users\\radav\\AppData\\Local\\Temp\\ipykernel_20420\\3594224295.py:1: FutureWarning: A value is trying to be set on a copy of a DataFrame or Series through chained assignment using an inplace method.\n",
      "The behavior will change in pandas 3.0. This inplace method will never work because the intermediate object on which we are setting values always behaves as a copy.\n",
      "\n",
      "For example, when doing 'df[col].method(value, inplace=True)', try using 'df.method({col: value}, inplace=True)' or df[col] = df[col].method(value) instead, to perform the operation inplace on the original object.\n",
      "\n",
      "\n",
      "  df['Type2'].fillna('None', inplace=True)\n"
     ]
    },
    {
     "data": {
      "application/vnd.microsoft.datawrangler.viewer.v0+json": {
       "columns": [
        {
         "name": "index",
         "rawType": "int64",
         "type": "integer"
        },
        {
         "name": "Type2",
         "rawType": "object",
         "type": "string"
        }
       ],
       "ref": "0fe8eb62-2258-46e8-8b47-d78defbecdbf",
       "rows": [
        [
         "0",
         "Poison"
        ],
        [
         "1",
         "Poison"
        ],
        [
         "2",
         "Poison"
        ],
        [
         "3",
         "Poison"
        ],
        [
         "4",
         "None"
        ],
        [
         "5",
         "None"
        ],
        [
         "6",
         "Flying"
        ],
        [
         "7",
         "Dragon"
        ],
        [
         "8",
         "Flying"
        ],
        [
         "9",
         "None"
        ],
        [
         "10",
         "None"
        ],
        [
         "11",
         "None"
        ],
        [
         "12",
         "None"
        ],
        [
         "13",
         "None"
        ],
        [
         "14",
         "None"
        ],
        [
         "15",
         "Flying"
        ],
        [
         "16",
         "Poison"
        ],
        [
         "17",
         "Poison"
        ],
        [
         "18",
         "Poison"
        ],
        [
         "19",
         "Poison"
        ],
        [
         "20",
         "Flying"
        ],
        [
         "21",
         "Flying"
        ],
        [
         "22",
         "Flying"
        ],
        [
         "23",
         "Flying"
        ],
        [
         "24",
         "None"
        ],
        [
         "25",
         "None"
        ],
        [
         "26",
         "Flying"
        ],
        [
         "27",
         "Flying"
        ],
        [
         "28",
         "None"
        ],
        [
         "29",
         "None"
        ],
        [
         "30",
         "None"
        ],
        [
         "31",
         "None"
        ],
        [
         "32",
         "None"
        ],
        [
         "33",
         "None"
        ],
        [
         "34",
         "None"
        ],
        [
         "35",
         "None"
        ],
        [
         "36",
         "Ground"
        ],
        [
         "37",
         "None"
        ],
        [
         "38",
         "None"
        ],
        [
         "39",
         "Ground"
        ],
        [
         "40",
         "None"
        ],
        [
         "41",
         "None"
        ],
        [
         "42",
         "None"
        ],
        [
         "43",
         "None"
        ],
        [
         "44",
         "Fairy"
        ],
        [
         "45",
         "Fairy"
        ],
        [
         "46",
         "Flying"
        ],
        [
         "47",
         "Flying"
        ],
        [
         "48",
         "Poison"
        ],
        [
         "49",
         "Poison"
        ]
       ],
       "shape": {
        "columns": 1,
        "rows": 800
       }
      },
      "text/plain": [
       "0      Poison\n",
       "1      Poison\n",
       "2      Poison\n",
       "3      Poison\n",
       "4        None\n",
       "        ...  \n",
       "795     Fairy\n",
       "796     Fairy\n",
       "797     Ghost\n",
       "798      Dark\n",
       "799     Water\n",
       "Name: Type2, Length: 800, dtype: object"
      ]
     },
     "execution_count": 36,
     "metadata": {},
     "output_type": "execute_result"
    }
   ],
   "source": [
    "df['Type2'].fillna('None', inplace=True)\n",
    "\n",
    "df['Type2']"
   ]
  },
  {
   "cell_type": "markdown",
   "id": "a34d29e6",
   "metadata": {},
   "source": [
    "### Number of pokemons by generation"
   ]
  },
  {
   "cell_type": "code",
   "execution_count": 37,
   "id": "802cba19",
   "metadata": {},
   "outputs": [
    {
     "data": {
      "application/vnd.microsoft.datawrangler.viewer.v0+json": {
       "columns": [
        {
         "name": "Generation",
         "rawType": "int64",
         "type": "integer"
        },
        {
         "name": "#",
         "rawType": "int64",
         "type": "integer"
        }
       ],
       "ref": "9c43598a-4f2b-4033-a7a1-6f396e4bc77c",
       "rows": [
        [
         "1",
         "166"
        ],
        [
         "2",
         "106"
        ],
        [
         "3",
         "160"
        ],
        [
         "4",
         "121"
        ],
        [
         "5",
         "165"
        ],
        [
         "6",
         "82"
        ]
       ],
       "shape": {
        "columns": 1,
        "rows": 6
       }
      },
      "text/plain": [
       "Generation\n",
       "1    166\n",
       "2    106\n",
       "3    160\n",
       "4    121\n",
       "5    165\n",
       "6     82\n",
       "Name: #, dtype: int64"
      ]
     },
     "execution_count": 37,
     "metadata": {},
     "output_type": "execute_result"
    }
   ],
   "source": [
    "df.groupby(['Generation'])['#'].count()"
   ]
  },
  {
   "cell_type": "code",
   "execution_count": 38,
   "id": "5a2f4d7a",
   "metadata": {},
   "outputs": [
    {
     "data": {
      "application/vnd.microsoft.datawrangler.viewer.v0+json": {
       "columns": [
        {
         "name": "Generation",
         "rawType": "int64",
         "type": "integer"
        },
        {
         "name": "count",
         "rawType": "int64",
         "type": "integer"
        }
       ],
       "ref": "4170b2ee-9a34-4a40-9767-0ff20dfee2c7",
       "rows": [
        [
         "1",
         "166"
        ],
        [
         "2",
         "106"
        ],
        [
         "3",
         "160"
        ],
        [
         "4",
         "121"
        ],
        [
         "5",
         "165"
        ],
        [
         "6",
         "82"
        ]
       ],
       "shape": {
        "columns": 1,
        "rows": 6
       }
      },
      "text/plain": [
       "Generation\n",
       "1    166\n",
       "2    106\n",
       "3    160\n",
       "4    121\n",
       "5    165\n",
       "6     82\n",
       "Name: count, dtype: int64"
      ]
     },
     "execution_count": 38,
     "metadata": {},
     "output_type": "execute_result"
    }
   ],
   "source": [
    "df['Generation'].value_counts().sort_index()"
   ]
  },
  {
   "cell_type": "markdown",
   "id": "571cc028",
   "metadata": {},
   "source": [
    "### Number of pokemons by primary type"
   ]
  },
  {
   "cell_type": "code",
   "execution_count": 39,
   "id": "1faa08dd",
   "metadata": {},
   "outputs": [
    {
     "data": {
      "application/vnd.microsoft.datawrangler.viewer.v0+json": {
       "columns": [
        {
         "name": "Type1",
         "rawType": "object",
         "type": "string"
        },
        {
         "name": "count",
         "rawType": "int64",
         "type": "integer"
        }
       ],
       "ref": "5342df85-a379-4321-9c0a-224328549e3f",
       "rows": [
        [
         "Water",
         "112"
        ],
        [
         "Normal",
         "98"
        ],
        [
         "Grass",
         "70"
        ],
        [
         "Bug",
         "69"
        ],
        [
         "Psychic",
         "57"
        ],
        [
         "Fire",
         "52"
        ],
        [
         "Rock",
         "44"
        ],
        [
         "Electric",
         "44"
        ],
        [
         "Ground",
         "32"
        ],
        [
         "Ghost",
         "32"
        ],
        [
         "Dragon",
         "32"
        ],
        [
         "Dark",
         "31"
        ],
        [
         "Poison",
         "28"
        ],
        [
         "Fighting",
         "27"
        ],
        [
         "Steel",
         "27"
        ],
        [
         "Ice",
         "24"
        ],
        [
         "Fairy",
         "17"
        ],
        [
         "Flying",
         "4"
        ]
       ],
       "shape": {
        "columns": 1,
        "rows": 18
       }
      },
      "text/plain": [
       "Type1\n",
       "Water       112\n",
       "Normal       98\n",
       "Grass        70\n",
       "Bug          69\n",
       "Psychic      57\n",
       "Fire         52\n",
       "Rock         44\n",
       "Electric     44\n",
       "Ground       32\n",
       "Ghost        32\n",
       "Dragon       32\n",
       "Dark         31\n",
       "Poison       28\n",
       "Fighting     27\n",
       "Steel        27\n",
       "Ice          24\n",
       "Fairy        17\n",
       "Flying        4\n",
       "Name: count, dtype: int64"
      ]
     },
     "execution_count": 39,
     "metadata": {},
     "output_type": "execute_result"
    }
   ],
   "source": [
    "df['Type1'].value_counts()"
   ]
  },
  {
   "cell_type": "markdown",
   "id": "69d1ced6",
   "metadata": {},
   "source": [
    "### Average stats by primary type"
   ]
  },
  {
   "cell_type": "code",
   "execution_count": 40,
   "id": "af715ef8",
   "metadata": {},
   "outputs": [
    {
     "data": {
      "application/vnd.microsoft.datawrangler.viewer.v0+json": {
       "columns": [
        {
         "name": "Type1",
         "rawType": "object",
         "type": "string"
        },
        {
         "name": "Total",
         "rawType": "float64",
         "type": "float"
        },
        {
         "name": "HP",
         "rawType": "float64",
         "type": "float"
        },
        {
         "name": "Attack",
         "rawType": "float64",
         "type": "float"
        },
        {
         "name": "Defense",
         "rawType": "float64",
         "type": "float"
        },
        {
         "name": "Sp_Atk",
         "rawType": "float64",
         "type": "float"
        },
        {
         "name": "Sp_Def",
         "rawType": "float64",
         "type": "float"
        },
        {
         "name": "Speed",
         "rawType": "float64",
         "type": "float"
        }
       ],
       "ref": "9c0040b1-03ff-433c-8119-5b6db5233c05",
       "rows": [
        [
         "Dragon",
         "550.5",
         "83.3",
         "112.1",
         "86.4",
         "96.8",
         "88.8",
         "83.0"
        ],
        [
         "Steel",
         "487.7",
         "65.2",
         "92.7",
         "126.4",
         "67.5",
         "80.6",
         "55.3"
        ],
        [
         "Flying",
         "485.0",
         "70.8",
         "78.8",
         "66.2",
         "94.2",
         "72.5",
         "102.5"
        ],
        [
         "Psychic",
         "475.9",
         "70.6",
         "71.5",
         "67.7",
         "98.4",
         "86.3",
         "81.5"
        ],
        [
         "Fire",
         "458.1",
         "69.9",
         "84.8",
         "67.8",
         "89.0",
         "72.2",
         "74.4"
        ],
        [
         "Rock",
         "453.8",
         "65.4",
         "92.9",
         "100.8",
         "63.3",
         "75.5",
         "55.9"
        ],
        [
         "Dark",
         "445.7",
         "66.8",
         "88.4",
         "70.2",
         "74.6",
         "69.5",
         "76.2"
        ],
        [
         "Electric",
         "443.4",
         "59.8",
         "69.1",
         "66.3",
         "90.0",
         "73.7",
         "84.5"
        ],
        [
         "Ghost",
         "439.6",
         "64.4",
         "73.8",
         "81.2",
         "79.3",
         "76.5",
         "64.3"
        ],
        [
         "Ground",
         "437.5",
         "73.8",
         "95.8",
         "84.8",
         "56.5",
         "62.8",
         "63.9"
        ],
        [
         "Ice",
         "433.5",
         "72.0",
         "72.8",
         "71.4",
         "77.5",
         "76.3",
         "63.5"
        ],
        [
         "Water",
         "430.5",
         "72.1",
         "74.2",
         "72.9",
         "74.8",
         "70.5",
         "66.0"
        ],
        [
         "Grass",
         "421.1",
         "67.3",
         "73.2",
         "70.8",
         "77.5",
         "70.4",
         "61.9"
        ],
        [
         "Fighting",
         "416.4",
         "69.9",
         "96.8",
         "65.9",
         "53.1",
         "64.7",
         "66.1"
        ],
        [
         "Fairy",
         "413.2",
         "74.1",
         "61.5",
         "65.7",
         "78.5",
         "84.7",
         "48.6"
        ],
        [
         "Normal",
         "401.7",
         "77.3",
         "73.5",
         "59.8",
         "55.8",
         "63.7",
         "71.6"
        ],
        [
         "Poison",
         "399.1",
         "67.2",
         "74.7",
         "68.8",
         "60.4",
         "64.4",
         "63.6"
        ],
        [
         "Bug",
         "378.9",
         "56.9",
         "71.0",
         "70.7",
         "53.9",
         "64.8",
         "61.7"
        ]
       ],
       "shape": {
        "columns": 7,
        "rows": 18
       }
      },
      "text/html": [
       "<div>\n",
       "<style scoped>\n",
       "    .dataframe tbody tr th:only-of-type {\n",
       "        vertical-align: middle;\n",
       "    }\n",
       "\n",
       "    .dataframe tbody tr th {\n",
       "        vertical-align: top;\n",
       "    }\n",
       "\n",
       "    .dataframe thead th {\n",
       "        text-align: right;\n",
       "    }\n",
       "</style>\n",
       "<table border=\"1\" class=\"dataframe\">\n",
       "  <thead>\n",
       "    <tr style=\"text-align: right;\">\n",
       "      <th></th>\n",
       "      <th>Total</th>\n",
       "      <th>HP</th>\n",
       "      <th>Attack</th>\n",
       "      <th>Defense</th>\n",
       "      <th>Sp_Atk</th>\n",
       "      <th>Sp_Def</th>\n",
       "      <th>Speed</th>\n",
       "    </tr>\n",
       "    <tr>\n",
       "      <th>Type1</th>\n",
       "      <th></th>\n",
       "      <th></th>\n",
       "      <th></th>\n",
       "      <th></th>\n",
       "      <th></th>\n",
       "      <th></th>\n",
       "      <th></th>\n",
       "    </tr>\n",
       "  </thead>\n",
       "  <tbody>\n",
       "    <tr>\n",
       "      <th>Dragon</th>\n",
       "      <td>550.5</td>\n",
       "      <td>83.3</td>\n",
       "      <td>112.1</td>\n",
       "      <td>86.4</td>\n",
       "      <td>96.8</td>\n",
       "      <td>88.8</td>\n",
       "      <td>83.0</td>\n",
       "    </tr>\n",
       "    <tr>\n",
       "      <th>Steel</th>\n",
       "      <td>487.7</td>\n",
       "      <td>65.2</td>\n",
       "      <td>92.7</td>\n",
       "      <td>126.4</td>\n",
       "      <td>67.5</td>\n",
       "      <td>80.6</td>\n",
       "      <td>55.3</td>\n",
       "    </tr>\n",
       "    <tr>\n",
       "      <th>Flying</th>\n",
       "      <td>485.0</td>\n",
       "      <td>70.8</td>\n",
       "      <td>78.8</td>\n",
       "      <td>66.2</td>\n",
       "      <td>94.2</td>\n",
       "      <td>72.5</td>\n",
       "      <td>102.5</td>\n",
       "    </tr>\n",
       "    <tr>\n",
       "      <th>Psychic</th>\n",
       "      <td>475.9</td>\n",
       "      <td>70.6</td>\n",
       "      <td>71.5</td>\n",
       "      <td>67.7</td>\n",
       "      <td>98.4</td>\n",
       "      <td>86.3</td>\n",
       "      <td>81.5</td>\n",
       "    </tr>\n",
       "    <tr>\n",
       "      <th>Fire</th>\n",
       "      <td>458.1</td>\n",
       "      <td>69.9</td>\n",
       "      <td>84.8</td>\n",
       "      <td>67.8</td>\n",
       "      <td>89.0</td>\n",
       "      <td>72.2</td>\n",
       "      <td>74.4</td>\n",
       "    </tr>\n",
       "    <tr>\n",
       "      <th>Rock</th>\n",
       "      <td>453.8</td>\n",
       "      <td>65.4</td>\n",
       "      <td>92.9</td>\n",
       "      <td>100.8</td>\n",
       "      <td>63.3</td>\n",
       "      <td>75.5</td>\n",
       "      <td>55.9</td>\n",
       "    </tr>\n",
       "    <tr>\n",
       "      <th>Dark</th>\n",
       "      <td>445.7</td>\n",
       "      <td>66.8</td>\n",
       "      <td>88.4</td>\n",
       "      <td>70.2</td>\n",
       "      <td>74.6</td>\n",
       "      <td>69.5</td>\n",
       "      <td>76.2</td>\n",
       "    </tr>\n",
       "    <tr>\n",
       "      <th>Electric</th>\n",
       "      <td>443.4</td>\n",
       "      <td>59.8</td>\n",
       "      <td>69.1</td>\n",
       "      <td>66.3</td>\n",
       "      <td>90.0</td>\n",
       "      <td>73.7</td>\n",
       "      <td>84.5</td>\n",
       "    </tr>\n",
       "    <tr>\n",
       "      <th>Ghost</th>\n",
       "      <td>439.6</td>\n",
       "      <td>64.4</td>\n",
       "      <td>73.8</td>\n",
       "      <td>81.2</td>\n",
       "      <td>79.3</td>\n",
       "      <td>76.5</td>\n",
       "      <td>64.3</td>\n",
       "    </tr>\n",
       "    <tr>\n",
       "      <th>Ground</th>\n",
       "      <td>437.5</td>\n",
       "      <td>73.8</td>\n",
       "      <td>95.8</td>\n",
       "      <td>84.8</td>\n",
       "      <td>56.5</td>\n",
       "      <td>62.8</td>\n",
       "      <td>63.9</td>\n",
       "    </tr>\n",
       "    <tr>\n",
       "      <th>Ice</th>\n",
       "      <td>433.5</td>\n",
       "      <td>72.0</td>\n",
       "      <td>72.8</td>\n",
       "      <td>71.4</td>\n",
       "      <td>77.5</td>\n",
       "      <td>76.3</td>\n",
       "      <td>63.5</td>\n",
       "    </tr>\n",
       "    <tr>\n",
       "      <th>Water</th>\n",
       "      <td>430.5</td>\n",
       "      <td>72.1</td>\n",
       "      <td>74.2</td>\n",
       "      <td>72.9</td>\n",
       "      <td>74.8</td>\n",
       "      <td>70.5</td>\n",
       "      <td>66.0</td>\n",
       "    </tr>\n",
       "    <tr>\n",
       "      <th>Grass</th>\n",
       "      <td>421.1</td>\n",
       "      <td>67.3</td>\n",
       "      <td>73.2</td>\n",
       "      <td>70.8</td>\n",
       "      <td>77.5</td>\n",
       "      <td>70.4</td>\n",
       "      <td>61.9</td>\n",
       "    </tr>\n",
       "    <tr>\n",
       "      <th>Fighting</th>\n",
       "      <td>416.4</td>\n",
       "      <td>69.9</td>\n",
       "      <td>96.8</td>\n",
       "      <td>65.9</td>\n",
       "      <td>53.1</td>\n",
       "      <td>64.7</td>\n",
       "      <td>66.1</td>\n",
       "    </tr>\n",
       "    <tr>\n",
       "      <th>Fairy</th>\n",
       "      <td>413.2</td>\n",
       "      <td>74.1</td>\n",
       "      <td>61.5</td>\n",
       "      <td>65.7</td>\n",
       "      <td>78.5</td>\n",
       "      <td>84.7</td>\n",
       "      <td>48.6</td>\n",
       "    </tr>\n",
       "    <tr>\n",
       "      <th>Normal</th>\n",
       "      <td>401.7</td>\n",
       "      <td>77.3</td>\n",
       "      <td>73.5</td>\n",
       "      <td>59.8</td>\n",
       "      <td>55.8</td>\n",
       "      <td>63.7</td>\n",
       "      <td>71.6</td>\n",
       "    </tr>\n",
       "    <tr>\n",
       "      <th>Poison</th>\n",
       "      <td>399.1</td>\n",
       "      <td>67.2</td>\n",
       "      <td>74.7</td>\n",
       "      <td>68.8</td>\n",
       "      <td>60.4</td>\n",
       "      <td>64.4</td>\n",
       "      <td>63.6</td>\n",
       "    </tr>\n",
       "    <tr>\n",
       "      <th>Bug</th>\n",
       "      <td>378.9</td>\n",
       "      <td>56.9</td>\n",
       "      <td>71.0</td>\n",
       "      <td>70.7</td>\n",
       "      <td>53.9</td>\n",
       "      <td>64.8</td>\n",
       "      <td>61.7</td>\n",
       "    </tr>\n",
       "  </tbody>\n",
       "</table>\n",
       "</div>"
      ],
      "text/plain": [
       "          Total    HP  Attack  Defense  Sp_Atk  Sp_Def  Speed\n",
       "Type1                                                        \n",
       "Dragon    550.5  83.3   112.1     86.4    96.8    88.8   83.0\n",
       "Steel     487.7  65.2    92.7    126.4    67.5    80.6   55.3\n",
       "Flying    485.0  70.8    78.8     66.2    94.2    72.5  102.5\n",
       "Psychic   475.9  70.6    71.5     67.7    98.4    86.3   81.5\n",
       "Fire      458.1  69.9    84.8     67.8    89.0    72.2   74.4\n",
       "Rock      453.8  65.4    92.9    100.8    63.3    75.5   55.9\n",
       "Dark      445.7  66.8    88.4     70.2    74.6    69.5   76.2\n",
       "Electric  443.4  59.8    69.1     66.3    90.0    73.7   84.5\n",
       "Ghost     439.6  64.4    73.8     81.2    79.3    76.5   64.3\n",
       "Ground    437.5  73.8    95.8     84.8    56.5    62.8   63.9\n",
       "Ice       433.5  72.0    72.8     71.4    77.5    76.3   63.5\n",
       "Water     430.5  72.1    74.2     72.9    74.8    70.5   66.0\n",
       "Grass     421.1  67.3    73.2     70.8    77.5    70.4   61.9\n",
       "Fighting  416.4  69.9    96.8     65.9    53.1    64.7   66.1\n",
       "Fairy     413.2  74.1    61.5     65.7    78.5    84.7   48.6\n",
       "Normal    401.7  77.3    73.5     59.8    55.8    63.7   71.6\n",
       "Poison    399.1  67.2    74.7     68.8    60.4    64.4   63.6\n",
       "Bug       378.9  56.9    71.0     70.7    53.9    64.8   61.7"
      ]
     },
     "execution_count": 40,
     "metadata": {},
     "output_type": "execute_result"
    }
   ],
   "source": [
    "df.groupby('Type1')[[\n",
    "    'Total',\n",
    "    'HP', \n",
    "    'Attack', \n",
    "    'Defense',\n",
    "    'Sp_Atk', \n",
    "    'Sp_Def', \n",
    "    'Speed'\n",
    "    ]].mean().sort_values(\"Total\", ascending=False).round(1)"
   ]
  },
  {
   "cell_type": "markdown",
   "id": "688b6f1b",
   "metadata": {},
   "source": [
    "### Legendary vs Non-Legendary stats comparison"
   ]
  },
  {
   "cell_type": "code",
   "execution_count": 41,
   "id": "c5d24bcd",
   "metadata": {},
   "outputs": [
    {
     "data": {
      "application/vnd.microsoft.datawrangler.viewer.v0+json": {
       "columns": [
        {
         "name": "Legendary",
         "rawType": "bool",
         "type": "boolean"
        },
        {
         "name": "Total",
         "rawType": "float64",
         "type": "float"
        },
        {
         "name": "HP",
         "rawType": "float64",
         "type": "float"
        },
        {
         "name": "Attack",
         "rawType": "float64",
         "type": "float"
        },
        {
         "name": "Defense",
         "rawType": "float64",
         "type": "float"
        },
        {
         "name": "Sp_Atk",
         "rawType": "float64",
         "type": "float"
        },
        {
         "name": "Sp_Def",
         "rawType": "float64",
         "type": "float"
        },
        {
         "name": "Speed",
         "rawType": "float64",
         "type": "float"
        }
       ],
       "ref": "52daa624-707d-487d-b7a3-abd6f4afb485",
       "rows": [
        [
         "False",
         "417.2",
         "67.2",
         "75.7",
         "71.6",
         "68.5",
         "68.9",
         "65.5"
        ],
        [
         "True",
         "637.4",
         "92.7",
         "116.7",
         "99.7",
         "122.2",
         "105.9",
         "100.2"
        ]
       ],
       "shape": {
        "columns": 7,
        "rows": 2
       }
      },
      "text/html": [
       "<div>\n",
       "<style scoped>\n",
       "    .dataframe tbody tr th:only-of-type {\n",
       "        vertical-align: middle;\n",
       "    }\n",
       "\n",
       "    .dataframe tbody tr th {\n",
       "        vertical-align: top;\n",
       "    }\n",
       "\n",
       "    .dataframe thead th {\n",
       "        text-align: right;\n",
       "    }\n",
       "</style>\n",
       "<table border=\"1\" class=\"dataframe\">\n",
       "  <thead>\n",
       "    <tr style=\"text-align: right;\">\n",
       "      <th></th>\n",
       "      <th>Total</th>\n",
       "      <th>HP</th>\n",
       "      <th>Attack</th>\n",
       "      <th>Defense</th>\n",
       "      <th>Sp_Atk</th>\n",
       "      <th>Sp_Def</th>\n",
       "      <th>Speed</th>\n",
       "    </tr>\n",
       "    <tr>\n",
       "      <th>Legendary</th>\n",
       "      <th></th>\n",
       "      <th></th>\n",
       "      <th></th>\n",
       "      <th></th>\n",
       "      <th></th>\n",
       "      <th></th>\n",
       "      <th></th>\n",
       "    </tr>\n",
       "  </thead>\n",
       "  <tbody>\n",
       "    <tr>\n",
       "      <th>False</th>\n",
       "      <td>417.2</td>\n",
       "      <td>67.2</td>\n",
       "      <td>75.7</td>\n",
       "      <td>71.6</td>\n",
       "      <td>68.5</td>\n",
       "      <td>68.9</td>\n",
       "      <td>65.5</td>\n",
       "    </tr>\n",
       "    <tr>\n",
       "      <th>True</th>\n",
       "      <td>637.4</td>\n",
       "      <td>92.7</td>\n",
       "      <td>116.7</td>\n",
       "      <td>99.7</td>\n",
       "      <td>122.2</td>\n",
       "      <td>105.9</td>\n",
       "      <td>100.2</td>\n",
       "    </tr>\n",
       "  </tbody>\n",
       "</table>\n",
       "</div>"
      ],
      "text/plain": [
       "           Total    HP  Attack  Defense  Sp_Atk  Sp_Def  Speed\n",
       "Legendary                                                     \n",
       "False      417.2  67.2    75.7     71.6    68.5    68.9   65.5\n",
       "True       637.4  92.7   116.7     99.7   122.2   105.9  100.2"
      ]
     },
     "execution_count": 41,
     "metadata": {},
     "output_type": "execute_result"
    }
   ],
   "source": [
    "df.groupby('Legendary')[[\n",
    "    'Total',\n",
    "    'HP', \n",
    "    'Attack', \n",
    "    'Defense',\n",
    "    'Sp_Atk', \n",
    "    'Sp_Def', \n",
    "    'Speed'\n",
    "    ]].mean().round(1)\n"
   ]
  },
  {
   "cell_type": "markdown",
   "id": "535550ff",
   "metadata": {},
   "source": [
    "### Histogram of the Primary Type Attack Stats"
   ]
  },
  {
   "cell_type": "code",
   "execution_count": 42,
   "id": "735074ef",
   "metadata": {},
   "outputs": [
    {
     "data": {
      "text/plain": [
       "<Axes: xlabel='Attack', ylabel='Count'>"
      ]
     },
     "execution_count": 42,
     "metadata": {},
     "output_type": "execute_result"
    },
    {
     "data": {
      "image/png": "[encoded data removed]",
      "text/plain": [
       "<Figure size 640x480 with 1 Axes>"
      ]
     },
     "metadata": {},
     "output_type": "display_data"
    }
   ],
   "source": [
    "sns.histplot(\n",
    "    data=df, \n",
    "    x='Attack', \n",
    "    bins=20, \n",
    "    kde=True,\n",
    "    edgecolor='black',\n",
    "    color='red',\n",
    ")"
   ]
  },
  {
   "cell_type": "markdown",
   "id": "c5f8c2ba",
   "metadata": {},
   "source": [
    "### Histogram of the Speed attribute"
   ]
  },
  {
   "cell_type": "code",
   "execution_count": 43,
   "id": "725d7b72",
   "metadata": {},
   "outputs": [
    {
     "data": {
      "text/plain": [
       "<Axes: xlabel='Speed', ylabel='Count'>"
      ]
     },
     "execution_count": 43,
     "metadata": {},
     "output_type": "execute_result"
    },
    {
     "data": {
      "image/png": "[encoded data removed]",
      "text/plain": [
       "<Figure size 640x480 with 1 Axes>"
      ]
     },
     "metadata": {},
     "output_type": "display_data"
    }
   ],
   "source": [
    "sns.histplot(\n",
    "    data=df, \n",
    "    x='Speed', \n",
    "    bins=20, \n",
    "    kde=True,\n",
    "    edgecolor='black',\n",
    "    color='yellow',\n",
    ")"
   ]
  },
  {
   "cell_type": "markdown",
   "id": "b2f2b883",
   "metadata": {},
   "source": [
    "### Boxplot of Defense attribute by primary type (top 10 defenses)"
   ]
  },
  {
   "cell_type": "code",
   "execution_count": 44,
   "id": "4fb9f067",
   "metadata": {},
   "outputs": [
    {
     "data": {
      "text/plain": [
       "Index(['Water', 'Normal', 'Grass', 'Bug', 'Psychic', 'Fire', 'Rock',\n",
       "       'Electric', 'Ground', 'Ghost'],\n",
       "      dtype='object', name='Type1')"
      ]
     },
     "execution_count": 44,
     "metadata": {},
     "output_type": "execute_result"
    }
   ],
   "source": [
    "top_types = df['Type1'].value_counts().head(10).index\n",
    "\n",
    "top_types"
   ]
  },
  {
   "cell_type": "code",
   "execution_count": 45,
   "id": "299fb792",
   "metadata": {},
   "outputs": [
    {
     "data": {
      "application/vnd.microsoft.datawrangler.viewer.v0+json": {
       "columns": [
        {
         "name": "index",
         "rawType": "int64",
         "type": "integer"
        },
        {
         "name": "#",
         "rawType": "int64",
         "type": "integer"
        },
        {
         "name": "Name",
         "rawType": "object",
         "type": "string"
        },
        {
         "name": "Type1",
         "rawType": "object",
         "type": "string"
        },
        {
         "name": "Type2",
         "rawType": "object",
         "type": "string"
        },
        {
         "name": "Total",
         "rawType": "int64",
         "type": "integer"
        },
        {
         "name": "HP",
         "rawType": "int64",
         "type": "integer"
        },
        {
         "name": "Attack",
         "rawType": "int64",
         "type": "integer"
        },
        {
         "name": "Defense",
         "rawType": "int64",
         "type": "integer"
        },
        {
         "name": "Sp_Atk",
         "rawType": "int64",
         "type": "integer"
        },
        {
         "name": "Sp_Def",
         "rawType": "int64",
         "type": "integer"
        },
        {
         "name": "Speed",
         "rawType": "int64",
         "type": "integer"
        },
        {
         "name": "Generation",
         "rawType": "int64",
         "type": "integer"
        },
        {
         "name": "Legendary",
         "rawType": "bool",
         "type": "boolean"
        }
       ],
       "ref": "77ef88de-c8d6-4ff1-a4e2-44df27e1d49d",
       "rows": [
        [
         "0",
         "1",
         "Bulbasaur",
         "Grass",
         "Poison",
         "318",
         "45",
         "49",
         "49",
         "65",
         "65",
         "45",
         "1",
         "False"
        ],
        [
         "1",
         "2",
         "Ivysaur",
         "Grass",
         "Poison",
         "405",
         "60",
         "62",
         "63",
         "80",
         "80",
         "60",
         "1",
         "False"
        ],
        [
         "2",
         "3",
         "Venusaur",
         "Grass",
         "Poison",
         "525",
         "80",
         "82",
         "83",
         "100",
         "100",
         "80",
         "1",
         "False"
        ],
        [
         "3",
         "3",
         "VenusaurMega Venusaur",
         "Grass",
         "Poison",
         "625",
         "80",
         "100",
         "123",
         "122",
         "120",
         "80",
         "1",
         "False"
        ],
        [
         "4",
         "4",
         "Charmander",
         "Fire",
         "None",
         "309",
         "39",
         "52",
         "43",
         "60",
         "50",
         "65",
         "1",
         "False"
        ],
        [
         "5",
         "5",
         "Charmeleon",
         "Fire",
         "None",
         "405",
         "58",
         "64",
         "58",
         "80",
         "65",
         "80",
         "1",
         "False"
        ],
        [
         "6",
         "6",
         "Charizard",
         "Fire",
         "Flying",
         "534",
         "78",
         "84",
         "78",
         "109",
         "85",
         "100",
         "1",
         "False"
        ],
        [
         "7",
         "6",
         "CharizardMega Charizard X",
         "Fire",
         "Dragon",
         "634",
         "78",
         "130",
         "111",
         "130",
         "85",
         "100",
         "1",
         "False"
        ],
        [
         "8",
         "6",
         "CharizardMega Charizard Y",
         "Fire",
         "Flying",
         "634",
         "78",
         "104",
         "78",
         "159",
         "115",
         "100",
         "1",
         "False"
        ],
        [
         "9",
         "7",
         "Squirtle",
         "Water",
         "None",
         "314",
         "44",
         "48",
         "65",
         "50",
         "64",
         "43",
         "1",
         "False"
        ],
        [
         "10",
         "8",
         "Wartortle",
         "Water",
         "None",
         "405",
         "59",
         "63",
         "80",
         "65",
         "80",
         "58",
         "1",
         "False"
        ],
        [
         "11",
         "9",
         "Blastoise",
         "Water",
         "None",
         "530",
         "79",
         "83",
         "100",
         "85",
         "105",
         "78",
         "1",
         "False"
        ],
        [
         "12",
         "9",
         "BlastoiseMega Blastoise",
         "Water",
         "None",
         "630",
         "79",
         "103",
         "120",
         "135",
         "115",
         "78",
         "1",
         "False"
        ],
        [
         "13",
         "10",
         "Caterpie",
         "Bug",
         "None",
         "195",
         "45",
         "30",
         "35",
         "20",
         "20",
         "45",
         "1",
         "False"
        ],
        [
         "14",
         "11",
         "Metapod",
         "Bug",
         "None",
         "205",
         "50",
         "20",
         "55",
         "25",
         "25",
         "30",
         "1",
         "False"
        ],
        [
         "15",
         "12",
         "Butterfree",
         "Bug",
         "Flying",
         "395",
         "60",
         "45",
         "50",
         "90",
         "80",
         "70",
         "1",
         "False"
        ],
        [
         "16",
         "13",
         "Weedle",
         "Bug",
         "Poison",
         "195",
         "40",
         "35",
         "30",
         "20",
         "20",
         "50",
         "1",
         "False"
        ],
        [
         "17",
         "14",
         "Kakuna",
         "Bug",
         "Poison",
         "205",
         "45",
         "25",
         "50",
         "25",
         "25",
         "35",
         "1",
         "False"
        ],
        [
         "18",
         "15",
         "Beedrill",
         "Bug",
         "Poison",
         "395",
         "65",
         "90",
         "40",
         "45",
         "80",
         "75",
         "1",
         "False"
        ],
        [
         "19",
         "15",
         "BeedrillMega Beedrill",
         "Bug",
         "Poison",
         "495",
         "65",
         "150",
         "40",
         "15",
         "80",
         "145",
         "1",
         "False"
        ],
        [
         "20",
         "16",
         "Pidgey",
         "Normal",
         "Flying",
         "251",
         "40",
         "45",
         "40",
         "35",
         "35",
         "56",
         "1",
         "False"
        ],
        [
         "21",
         "17",
         "Pidgeotto",
         "Normal",
         "Flying",
         "349",
         "63",
         "60",
         "55",
         "50",
         "50",
         "71",
         "1",
         "False"
        ],
        [
         "22",
         "18",
         "Pidgeot",
         "Normal",
         "Flying",
         "479",
         "83",
         "80",
         "75",
         "70",
         "70",
         "101",
         "1",
         "False"
        ],
        [
         "23",
         "18",
         "PidgeotMega Pidgeot",
         "Normal",
         "Flying",
         "579",
         "83",
         "80",
         "80",
         "135",
         "80",
         "121",
         "1",
         "False"
        ],
        [
         "24",
         "19",
         "Rattata",
         "Normal",
         "None",
         "253",
         "30",
         "56",
         "35",
         "25",
         "35",
         "72",
         "1",
         "False"
        ],
        [
         "25",
         "20",
         "Raticate",
         "Normal",
         "None",
         "413",
         "55",
         "81",
         "60",
         "50",
         "70",
         "97",
         "1",
         "False"
        ],
        [
         "26",
         "21",
         "Spearow",
         "Normal",
         "Flying",
         "262",
         "40",
         "60",
         "30",
         "31",
         "31",
         "70",
         "1",
         "False"
        ],
        [
         "27",
         "22",
         "Fearow",
         "Normal",
         "Flying",
         "442",
         "65",
         "90",
         "65",
         "61",
         "61",
         "100",
         "1",
         "False"
        ],
        [
         "30",
         "25",
         "Pikachu",
         "Electric",
         "None",
         "320",
         "35",
         "55",
         "40",
         "50",
         "50",
         "90",
         "1",
         "False"
        ],
        [
         "31",
         "26",
         "Raichu",
         "Electric",
         "None",
         "485",
         "60",
         "90",
         "55",
         "90",
         "80",
         "110",
         "1",
         "False"
        ],
        [
         "32",
         "27",
         "Sandshrew",
         "Ground",
         "None",
         "300",
         "50",
         "75",
         "85",
         "20",
         "30",
         "40",
         "1",
         "False"
        ],
        [
         "33",
         "28",
         "Sandslash",
         "Ground",
         "None",
         "450",
         "75",
         "100",
         "110",
         "45",
         "55",
         "65",
         "1",
         "False"
        ],
        [
         "42",
         "37",
         "Vulpix",
         "Fire",
         "None",
         "299",
         "38",
         "41",
         "40",
         "50",
         "65",
         "65",
         "1",
         "False"
        ],
        [
         "43",
         "38",
         "Ninetales",
         "Fire",
         "None",
         "505",
         "73",
         "76",
         "75",
         "81",
         "100",
         "100",
         "1",
         "False"
        ],
        [
         "44",
         "39",
         "Jigglypuff",
         "Normal",
         "Fairy",
         "270",
         "115",
         "45",
         "20",
         "45",
         "25",
         "20",
         "1",
         "False"
        ],
        [
         "45",
         "40",
         "Wigglytuff",
         "Normal",
         "Fairy",
         "435",
         "140",
         "70",
         "45",
         "85",
         "50",
         "45",
         "1",
         "False"
        ],
        [
         "48",
         "43",
         "Oddish",
         "Grass",
         "Poison",
         "320",
         "45",
         "50",
         "55",
         "75",
         "65",
         "30",
         "1",
         "False"
        ],
        [
         "49",
         "44",
         "Gloom",
         "Grass",
         "Poison",
         "395",
         "60",
         "65",
         "70",
         "85",
         "75",
         "40",
         "1",
         "False"
        ],
        [
         "50",
         "45",
         "Vileplume",
         "Grass",
         "Poison",
         "490",
         "75",
         "80",
         "85",
         "110",
         "90",
         "50",
         "1",
         "False"
        ],
        [
         "51",
         "46",
         "Paras",
         "Bug",
         "Grass",
         "285",
         "35",
         "70",
         "55",
         "45",
         "55",
         "25",
         "1",
         "False"
        ],
        [
         "52",
         "47",
         "Parasect",
         "Bug",
         "Grass",
         "405",
         "60",
         "95",
         "80",
         "60",
         "80",
         "30",
         "1",
         "False"
        ],
        [
         "53",
         "48",
         "Venonat",
         "Bug",
         "Poison",
         "305",
         "60",
         "55",
         "50",
         "40",
         "55",
         "45",
         "1",
         "False"
        ],
        [
         "54",
         "49",
         "Venomoth",
         "Bug",
         "Poison",
         "450",
         "70",
         "65",
         "60",
         "90",
         "75",
         "90",
         "1",
         "False"
        ],
        [
         "55",
         "50",
         "Diglett",
         "Ground",
         "None",
         "265",
         "10",
         "55",
         "25",
         "35",
         "45",
         "95",
         "1",
         "False"
        ],
        [
         "56",
         "51",
         "Dugtrio",
         "Ground",
         "None",
         "405",
         "35",
         "80",
         "50",
         "50",
         "70",
         "120",
         "1",
         "False"
        ],
        [
         "57",
         "52",
         "Meowth",
         "Normal",
         "None",
         "290",
         "40",
         "45",
         "35",
         "40",
         "40",
         "90",
         "1",
         "False"
        ],
        [
         "58",
         "53",
         "Persian",
         "Normal",
         "None",
         "440",
         "65",
         "70",
         "60",
         "65",
         "65",
         "115",
         "1",
         "False"
        ],
        [
         "59",
         "54",
         "Psyduck",
         "Water",
         "None",
         "320",
         "50",
         "52",
         "48",
         "65",
         "50",
         "55",
         "1",
         "False"
        ],
        [
         "60",
         "55",
         "Golduck",
         "Water",
         "None",
         "500",
         "80",
         "82",
         "78",
         "95",
         "80",
         "85",
         "1",
         "False"
        ],
        [
         "63",
         "58",
         "Growlithe",
         "Fire",
         "None",
         "350",
         "55",
         "70",
         "45",
         "70",
         "50",
         "60",
         "1",
         "False"
        ]
       ],
       "shape": {
        "columns": 13,
        "rows": 610
       }
      },
      "text/html": [
       "<div>\n",
       "<style scoped>\n",
       "    .dataframe tbody tr th:only-of-type {\n",
       "        vertical-align: middle;\n",
       "    }\n",
       "\n",
       "    .dataframe tbody tr th {\n",
       "        vertical-align: top;\n",
       "    }\n",
       "\n",
       "    .dataframe thead th {\n",
       "        text-align: right;\n",
       "    }\n",
       "</style>\n",
       "<table border=\"1\" class=\"dataframe\">\n",
       "  <thead>\n",
       "    <tr style=\"text-align: right;\">\n",
       "      <th></th>\n",
       "      <th>#</th>\n",
       "      <th>Name</th>\n",
       "      <th>Type1</th>\n",
       "      <th>Type2</th>\n",
       "      <th>Total</th>\n",
       "      <th>HP</th>\n",
       "      <th>Attack</th>\n",
       "      <th>Defense</th>\n",
       "      <th>Sp_Atk</th>\n",
       "      <th>Sp_Def</th>\n",
       "      <th>Speed</th>\n",
       "      <th>Generation</th>\n",
       "      <th>Legendary</th>\n",
       "    </tr>\n",
       "  </thead>\n",
       "  <tbody>\n",
       "    <tr>\n",
       "      <th>0</th>\n",
       "      <td>1</td>\n",
       "      <td>Bulbasaur</td>\n",
       "      <td>Grass</td>\n",
       "      <td>Poison</td>\n",
       "      <td>318</td>\n",
       "      <td>45</td>\n",
       "      <td>49</td>\n",
       "      <td>49</td>\n",
       "      <td>65</td>\n",
       "      <td>65</td>\n",
       "      <td>45</td>\n",
       "      <td>1</td>\n",
       "      <td>False</td>\n",
       "    </tr>\n",
       "    <tr>\n",
       "      <th>1</th>\n",
       "      <td>2</td>\n",
       "      <td>Ivysaur</td>\n",
       "      <td>Grass</td>\n",
       "      <td>Poison</td>\n",
       "      <td>405</td>\n",
       "      <td>60</td>\n",
       "      <td>62</td>\n",
       "      <td>63</td>\n",
       "      <td>80</td>\n",
       "      <td>80</td>\n",
       "      <td>60</td>\n",
       "      <td>1</td>\n",
       "      <td>False</td>\n",
       "    </tr>\n",
       "    <tr>\n",
       "      <th>2</th>\n",
       "      <td>3</td>\n",
       "      <td>Venusaur</td>\n",
       "      <td>Grass</td>\n",
       "      <td>Poison</td>\n",
       "      <td>525</td>\n",
       "      <td>80</td>\n",
       "      <td>82</td>\n",
       "      <td>83</td>\n",
       "      <td>100</td>\n",
       "      <td>100</td>\n",
       "      <td>80</td>\n",
       "      <td>1</td>\n",
       "      <td>False</td>\n",
       "    </tr>\n",
       "    <tr>\n",
       "      <th>3</th>\n",
       "      <td>3</td>\n",
       "      <td>VenusaurMega Venusaur</td>\n",
       "      <td>Grass</td>\n",
       "      <td>Poison</td>\n",
       "      <td>625</td>\n",
       "      <td>80</td>\n",
       "      <td>100</td>\n",
       "      <td>123</td>\n",
       "      <td>122</td>\n",
       "      <td>120</td>\n",
       "      <td>80</td>\n",
       "      <td>1</td>\n",
       "      <td>False</td>\n",
       "    </tr>\n",
       "    <tr>\n",
       "      <th>4</th>\n",
       "      <td>4</td>\n",
       "      <td>Charmander</td>\n",
       "      <td>Fire</td>\n",
       "      <td>None</td>\n",
       "      <td>309</td>\n",
       "      <td>39</td>\n",
       "      <td>52</td>\n",
       "      <td>43</td>\n",
       "      <td>60</td>\n",
       "      <td>50</td>\n",
       "      <td>65</td>\n",
       "      <td>1</td>\n",
       "      <td>False</td>\n",
       "    </tr>\n",
       "    <tr>\n",
       "      <th>...</th>\n",
       "      <td>...</td>\n",
       "      <td>...</td>\n",
       "      <td>...</td>\n",
       "      <td>...</td>\n",
       "      <td>...</td>\n",
       "      <td>...</td>\n",
       "      <td>...</td>\n",
       "      <td>...</td>\n",
       "      <td>...</td>\n",
       "      <td>...</td>\n",
       "      <td>...</td>\n",
       "      <td>...</td>\n",
       "      <td>...</td>\n",
       "    </tr>\n",
       "    <tr>\n",
       "      <th>795</th>\n",
       "      <td>719</td>\n",
       "      <td>Diancie</td>\n",
       "      <td>Rock</td>\n",
       "      <td>Fairy</td>\n",
       "      <td>600</td>\n",
       "      <td>50</td>\n",
       "      <td>100</td>\n",
       "      <td>150</td>\n",
       "      <td>100</td>\n",
       "      <td>150</td>\n",
       "      <td>50</td>\n",
       "      <td>6</td>\n",
       "      <td>True</td>\n",
       "    </tr>\n",
       "    <tr>\n",
       "      <th>796</th>\n",
       "      <td>719</td>\n",
       "      <td>DiancieMega Diancie</td>\n",
       "      <td>Rock</td>\n",
       "      <td>Fairy</td>\n",
       "      <td>700</td>\n",
       "      <td>50</td>\n",
       "      <td>160</td>\n",
       "      <td>110</td>\n",
       "      <td>160</td>\n",
       "      <td>110</td>\n",
       "      <td>110</td>\n",
       "      <td>6</td>\n",
       "      <td>True</td>\n",
       "    </tr>\n",
       "    <tr>\n",
       "      <th>797</th>\n",
       "      <td>720</td>\n",
       "      <td>HoopaHoopa Confined</td>\n",
       "      <td>Psychic</td>\n",
       "      <td>Ghost</td>\n",
       "      <td>600</td>\n",
       "      <td>80</td>\n",
       "      <td>110</td>\n",
       "      <td>60</td>\n",
       "      <td>150</td>\n",
       "      <td>130</td>\n",
       "      <td>70</td>\n",
       "      <td>6</td>\n",
       "      <td>True</td>\n",
       "    </tr>\n",
       "    <tr>\n",
       "      <th>798</th>\n",
       "      <td>720</td>\n",
       "      <td>HoopaHoopa Unbound</td>\n",
       "      <td>Psychic</td>\n",
       "      <td>Dark</td>\n",
       "      <td>680</td>\n",
       "      <td>80</td>\n",
       "      <td>160</td>\n",
       "      <td>60</td>\n",
       "      <td>170</td>\n",
       "      <td>130</td>\n",
       "      <td>80</td>\n",
       "      <td>6</td>\n",
       "      <td>True</td>\n",
       "    </tr>\n",
       "    <tr>\n",
       "      <th>799</th>\n",
       "      <td>721</td>\n",
       "      <td>Volcanion</td>\n",
       "      <td>Fire</td>\n",
       "      <td>Water</td>\n",
       "      <td>600</td>\n",
       "      <td>80</td>\n",
       "      <td>110</td>\n",
       "      <td>120</td>\n",
       "      <td>130</td>\n",
       "      <td>90</td>\n",
       "      <td>70</td>\n",
       "      <td>6</td>\n",
       "      <td>True</td>\n",
       "    </tr>\n",
       "  </tbody>\n",
       "</table>\n",
       "<p>610 rows × 13 columns</p>\n",
       "</div>"
      ],
      "text/plain": [
       "       #                   Name    Type1   Type2  Total  HP  Attack  Defense  \\\n",
       "0      1              Bulbasaur    Grass  Poison    318  45      49       49   \n",
       "1      2                Ivysaur    Grass  Poison    405  60      62       63   \n",
       "2      3               Venusaur    Grass  Poison    525  80      82       83   \n",
       "3      3  VenusaurMega Venusaur    Grass  Poison    625  80     100      123   \n",
       "4      4             Charmander     Fire    None    309  39      52       43   \n",
       "..   ...                    ...      ...     ...    ...  ..     ...      ...   \n",
       "795  719                Diancie     Rock   Fairy    600  50     100      150   \n",
       "796  719    DiancieMega Diancie     Rock   Fairy    700  50     160      110   \n",
       "797  720    HoopaHoopa Confined  Psychic   Ghost    600  80     110       60   \n",
       "798  720     HoopaHoopa Unbound  Psychic    Dark    680  80     160       60   \n",
       "799  721              Volcanion     Fire   Water    600  80     110      120   \n",
       "\n",
       "     Sp_Atk  Sp_Def  Speed  Generation  Legendary  \n",
       "0        65      65     45           1      False  \n",
       "1        80      80     60           1      False  \n",
       "2       100     100     80           1      False  \n",
       "3       122     120     80           1      False  \n",
       "4        60      50     65           1      False  \n",
       "..      ...     ...    ...         ...        ...  \n",
       "795     100     150     50           6       True  \n",
       "796     160     110    110           6       True  \n",
       "797     150     130     70           6       True  \n",
       "798     170     130     80           6       True  \n",
       "799     130      90     70           6       True  \n",
       "\n",
       "[610 rows x 13 columns]"
      ]
     },
     "execution_count": 45,
     "metadata": {},
     "output_type": "execute_result"
    }
   ],
   "source": [
    "df[df['Type1'].isin(top_types)]"
   ]
  },
  {
   "cell_type": "code",
   "execution_count": 46,
   "id": "52b68108",
   "metadata": {},
   "outputs": [
    {
     "data": {
      "text/plain": [
       "<Axes: xlabel='Type1', ylabel='Defense'>"
      ]
     },
     "execution_count": 46,
     "metadata": {},
     "output_type": "execute_result"
    },
    {
     "data": {
      "image/png": "[encoded data removed]",
      "text/plain": [
       "<Figure size 640x480 with 1 Axes>"
      ]
     },
     "metadata": {},
     "output_type": "display_data"
    }
   ],
   "source": [
    "defData = df[df['Type1'].isin(top_types)]\n",
    "\n",
    "sns.boxplot(\n",
    "    data=defData, \n",
    "    x='Type1', \n",
    "    y='Defense',\n",
    "    hue='Type1',\n",
    "    legend=False,\n",
    "    linecolor=\"black\",\n",
    "    palette=\"deep\",\n",
    ")"
   ]
  },
  {
   "cell_type": "markdown",
   "id": "28c655b9",
   "metadata": {},
   "source": [
    "### Strongest Pokémon per generation by ’Total’"
   ]
  },
  {
   "cell_type": "code",
   "execution_count": 47,
   "id": "774ffa6d",
   "metadata": {},
   "outputs": [
    {
     "data": {
      "application/vnd.microsoft.datawrangler.viewer.v0+json": {
       "columns": [
        {
         "name": "Generation",
         "rawType": "int64",
         "type": "integer"
        },
        {
         "name": "Total",
         "rawType": "int64",
         "type": "integer"
        }
       ],
       "ref": "bd24c161-b0ad-4194-bc6e-720cf114b136",
       "rows": [
        [
         "1",
         "780"
        ],
        [
         "2",
         "700"
        ],
        [
         "3",
         "780"
        ],
        [
         "4",
         "720"
        ],
        [
         "5",
         "700"
        ],
        [
         "6",
         "700"
        ]
       ],
       "shape": {
        "columns": 1,
        "rows": 6
       }
      },
      "text/plain": [
       "Generation\n",
       "1    780\n",
       "2    700\n",
       "3    780\n",
       "4    720\n",
       "5    700\n",
       "6    700\n",
       "Name: Total, dtype: int64"
      ]
     },
     "execution_count": 47,
     "metadata": {},
     "output_type": "execute_result"
    }
   ],
   "source": [
    "df.groupby('Generation')['Total'].max()"
   ]
  },
  {
   "cell_type": "markdown",
   "id": "5e8a723c",
   "metadata": {},
   "source": [
    "### Top 5 primary types by mean Attack"
   ]
  },
  {
   "cell_type": "code",
   "execution_count": 48,
   "id": "4420f334",
   "metadata": {},
   "outputs": [
    {
     "data": {
      "application/vnd.microsoft.datawrangler.viewer.v0+json": {
       "columns": [
        {
         "name": "Type1",
         "rawType": "object",
         "type": "string"
        },
        {
         "name": "Attack",
         "rawType": "float64",
         "type": "float"
        }
       ],
       "ref": "02d41b51-e981-4dc3-936e-ddbf9dfff82f",
       "rows": [
        [
         "Dragon",
         "112.125"
        ],
        [
         "Fighting",
         "96.77777777777777"
        ],
        [
         "Ground",
         "95.75"
        ],
        [
         "Rock",
         "92.86363636363636"
        ],
        [
         "Steel",
         "92.70370370370371"
        ]
       ],
       "shape": {
        "columns": 1,
        "rows": 5
       }
      },
      "text/plain": [
       "Type1\n",
       "Dragon      112.125000\n",
       "Fighting     96.777778\n",
       "Ground       95.750000\n",
       "Rock         92.863636\n",
       "Steel        92.703704\n",
       "Name: Attack, dtype: float64"
      ]
     },
     "execution_count": 48,
     "metadata": {},
     "output_type": "execute_result"
    }
   ],
   "source": [
    "df.groupby('Type1')['Attack'].mean().sort_values(ascending=False).head(5)"
   ]
  },
  {
   "cell_type": "markdown",
   "id": "ee9e7601",
   "metadata": {},
   "source": [
    "### Histogram of HP attribute in Pokémons with no secondary type (default number of bins)"
   ]
  },
  {
   "cell_type": "code",
   "execution_count": 49,
   "id": "e4dc3c9b",
   "metadata": {},
   "outputs": [
    {
     "data": {
      "text/plain": [
       "<Axes: xlabel='HP', ylabel='Count'>"
      ]
     },
     "execution_count": 49,
     "metadata": {},
     "output_type": "execute_result"
    },
    {
     "data": {
      "image/png": "[encoded data removed]",
      "text/plain": [
       "<Figure size 640x480 with 1 Axes>"
      ]
     },
     "metadata": {},
     "output_type": "display_data"
    }
   ],
   "source": [
    "df_type2_none = df[df['Type2'] == 'None']\n",
    "\n",
    "sns.set_theme(style=\"darkgrid\", context=\"notebook\")\n",
    "\n",
    "sns.histplot(\n",
    "    data=df_type2_none, \n",
    "    x=\"HP\", \n",
    "    kde=True,\n",
    "    edgecolor=\"black\",\n",
    "    color=\"green\",\n",
    ")"
   ]
  },
  {
   "cell_type": "markdown",
   "id": "fab235ff",
   "metadata": {},
   "source": [
    "### Count plot of number of Pokémon per generation "
   ]
  },
  {
   "cell_type": "code",
   "execution_count": 50,
   "id": "e2b5c6da",
   "metadata": {},
   "outputs": [
    {
     "data": {
      "text/plain": [
       "<Axes: xlabel='Generation', ylabel='count'>"
      ]
     },
     "execution_count": 50,
     "metadata": {},
     "output_type": "execute_result"
    },
    {
     "data": {
      "image/png": "[encoded data removed]",
      "text/plain": [
       "<Figure size 640x480 with 1 Axes>"
      ]
     },
     "metadata": {},
     "output_type": "display_data"
    }
   ],
   "source": [
    "sns.countplot(\n",
    "    data=df, \n",
    "    x='Generation',\n",
    "    hue='Generation',\n",
    "    legend=False,\n",
    "    edgecolor='black',\n",
    "    palette=\"deep\",\n",
    ")"
   ]
  },
  {
   "cell_type": "markdown",
   "id": "1d2c3b93",
   "metadata": {},
   "source": [
    "### What’s the difference between an histogram and a count plot?\n",
    "A histogram shows how a numeric value is spread out by splitting it into ranges and showing how many items fall into each range, which helps to see patterns like the most common or extreme values. A count plot simply shows how many items are in each category, making it useful to compare different groups instead of analyzing continuous numbers."
   ]
  },
  {
   "cell_type": "markdown",
   "id": "54aa7860",
   "metadata": {},
   "source": [
    "### Boxplot of Speed attribute by generation"
   ]
  },
  {
   "cell_type": "code",
   "execution_count": 51,
   "id": "c40946c1",
   "metadata": {},
   "outputs": [
    {
     "data": {
      "text/plain": [
       "<Axes: xlabel='Generation', ylabel='Speed'>"
      ]
     },
     "execution_count": 51,
     "metadata": {},
     "output_type": "execute_result"
    },
    {
     "data": {
      "image/png": "[encoded data removed]",
      "text/plain": [
       "<Figure size 640x480 with 1 Axes>"
      ]
     },
     "metadata": {},
     "output_type": "display_data"
    }
   ],
   "source": [
    "sns.boxplot(\n",
    "    data=df, \n",
    "    x=\"Generation\",\n",
    "    y=\"Speed\",\n",
    "    hue='Generation',\n",
    "    legend=False,\n",
    "    linecolor=\"black\",\n",
    "    palette=\"deep\",\n",
    ")"
   ]
  },
  {
   "cell_type": "markdown",
   "id": "a9337e13",
   "metadata": {},
   "source": [
    "### Violin plot of Speed attribute by generation "
   ]
  },
  {
   "cell_type": "code",
   "execution_count": 52,
   "id": "28ebaa99",
   "metadata": {},
   "outputs": [
    {
     "data": {
      "text/plain": [
       "<Axes: xlabel='Generation', ylabel='Speed'>"
      ]
     },
     "execution_count": 52,
     "metadata": {},
     "output_type": "execute_result"
    },
    {
     "data": {
      "image/png": "[encoded data removed]",
      "text/plain": [
       "<Figure size 640x480 with 1 Axes>"
      ]
     },
     "metadata": {},
     "output_type": "display_data"
    }
   ],
   "source": [
    "sns.violinplot(\n",
    "    data=df, \n",
    "    x='Generation', \n",
    "    y='Speed',\n",
    "    hue='Generation',\n",
    "    legend=False,\n",
    "    linecolor=\"black\",\n",
    "    palette=\"deep\",\n",
    ")"
   ]
  },
  {
   "cell_type": "markdown",
   "id": "8e68c987",
   "metadata": {},
   "source": [
    "### What’s the difference between a box plot and a violin plot?\n",
    "A box plot shows how a set of numbers is spread by displaying five key statistics: the minimum, the first quartile (where 25% of the data is below), the median (the middle value), the third quartile (where 75% is below), and the maximum. The box goes from the first to the third quartile, the line inside shows the median, and the \"whiskers\" show the lowest and highest values, while any points outside are outliers. A violin plot shows the same information but also includes the shape of the data’s distribution, so we can see where the values are more concentrated or more spread out, giving a clearer picture of how the data behaves."
   ]
  }
 ],
 "metadata": {
  "kernelspec": {
   "display_name": "env",
   "language": "python",
   "name": "python3"
  },
  "language_info": {
   "codemirror_mode": {
    "name": "ipython",
    "version": 3
   },
   "file_extension": ".py",
   "mimetype": "text/x-python",
   "name": "python",
   "nbconvert_exporter": "python",
   "pygments_lexer": "ipython3",
   "version": "3.13.2"
  }
 },
 "nbformat": 4,
 "nbformat_minor": 5
}
